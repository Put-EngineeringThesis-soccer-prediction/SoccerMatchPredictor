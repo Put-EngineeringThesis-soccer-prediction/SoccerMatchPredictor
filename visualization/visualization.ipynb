{
 "cells": [
  {
   "cell_type": "code",
   "execution_count": 4,
   "metadata": {},
   "outputs": [
    {
     "ename": "ModuleNotFoundError",
     "evalue": "No module named 'requests'",
     "output_type": "error",
     "traceback": [
      "\u001b[0;31m---------------------------------------------------------------------------\u001b[0m",
      "\u001b[0;31mModuleNotFoundError\u001b[0m                       Traceback (most recent call last)",
      "\u001b[0;32m<ipython-input-4-9adefbf5fcaa>\u001b[0m in \u001b[0;36m<module>\u001b[0;34m\u001b[0m\n\u001b[1;32m      2\u001b[0m \u001b[0;32mimport\u001b[0m \u001b[0mpandas\u001b[0m \u001b[0;32mas\u001b[0m \u001b[0mpd\u001b[0m\u001b[0;34m\u001b[0m\u001b[0;34m\u001b[0m\u001b[0m\n\u001b[1;32m      3\u001b[0m \u001b[0;32mimport\u001b[0m \u001b[0mpyodbc\u001b[0m\u001b[0;34m\u001b[0m\u001b[0;34m\u001b[0m\u001b[0m\n\u001b[0;32m----> 4\u001b[0;31m \u001b[0;32mimport\u001b[0m \u001b[0mrequests\u001b[0m\u001b[0;34m\u001b[0m\u001b[0;34m\u001b[0m\u001b[0m\n\u001b[0m\u001b[1;32m      5\u001b[0m \u001b[0;32mimport\u001b[0m \u001b[0mmatplotlib\u001b[0m\u001b[0;34m.\u001b[0m\u001b[0mpyplot\u001b[0m \u001b[0;32mas\u001b[0m \u001b[0mplt\u001b[0m\u001b[0;34m\u001b[0m\u001b[0;34m\u001b[0m\u001b[0m\n",
      "\u001b[0;31mModuleNotFoundError\u001b[0m: No module named 'requests'"
     ]
    }
   ],
   "source": [
    "%matplotlib inline\n",
    "import pandas as pd\n",
    "import pyodbc\n",
    "import matplotlib.pyplot as plt"
   ]
  },
  {
   "cell_type": "code",
   "execution_count": 2,
   "metadata": {},
   "outputs": [],
   "source": [
    "server = 'match-predict-inz1.database.windows.net' \n",
    "database = 'inzeuw-pp-match-predict-2' \n",
    "username = 'sqladmin' \n",
    "password = '11QQaazz@@wwssxx'\n",
    "\n",
    "conn = pyodbc.connect('DRIVER={ODBC Driver 17 for SQL Server};SERVER='+server+';Database='+database+';UID='+username+';PWD='+ password)"
   ]
  },
  {
   "cell_type": "markdown",
   "metadata": {},
   "source": [
    "# Tabele w bazie danych"
   ]
  },
  {
   "cell_type": "code",
   "execution_count": 3,
   "metadata": {},
   "outputs": [
    {
     "data": {
      "text/html": [
       "<div>\n",
       "<style scoped>\n",
       "    .dataframe tbody tr th:only-of-type {\n",
       "        vertical-align: middle;\n",
       "    }\n",
       "\n",
       "    .dataframe tbody tr th {\n",
       "        vertical-align: top;\n",
       "    }\n",
       "\n",
       "    .dataframe thead th {\n",
       "        text-align: right;\n",
       "    }\n",
       "</style>\n",
       "<table border=\"1\" class=\"dataframe\">\n",
       "  <thead>\n",
       "    <tr style=\"text-align: right;\">\n",
       "      <th></th>\n",
       "      <th>TABLE_NAME</th>\n",
       "    </tr>\n",
       "  </thead>\n",
       "  <tbody>\n",
       "    <tr>\n",
       "      <th>0</th>\n",
       "      <td>EloRating</td>\n",
       "    </tr>\n",
       "    <tr>\n",
       "      <th>1</th>\n",
       "      <td>Country</td>\n",
       "    </tr>\n",
       "    <tr>\n",
       "      <th>2</th>\n",
       "      <td>League</td>\n",
       "    </tr>\n",
       "    <tr>\n",
       "      <th>3</th>\n",
       "      <td>Match</td>\n",
       "    </tr>\n",
       "    <tr>\n",
       "      <th>4</th>\n",
       "      <td>Player</td>\n",
       "    </tr>\n",
       "    <tr>\n",
       "      <th>5</th>\n",
       "      <td>Player_Attributes</td>\n",
       "    </tr>\n",
       "    <tr>\n",
       "      <th>6</th>\n",
       "      <td>Team</td>\n",
       "    </tr>\n",
       "    <tr>\n",
       "      <th>7</th>\n",
       "      <td>Team_Attributes</td>\n",
       "    </tr>\n",
       "  </tbody>\n",
       "</table>\n",
       "</div>"
      ],
      "text/plain": [
       "          TABLE_NAME\n",
       "0          EloRating\n",
       "1            Country\n",
       "2             League\n",
       "3              Match\n",
       "4             Player\n",
       "5  Player_Attributes\n",
       "6               Team\n",
       "7    Team_Attributes"
      ]
     },
     "execution_count": 3,
     "metadata": {},
     "output_type": "execute_result"
    }
   ],
   "source": [
    "pd.read_sql_query(\"SELECT TABLE_NAME FROM INFORMATION_SCHEMA.TABLES WHERE TABLE_TYPE='BASE TABLE';\", conn)"
   ]
  },
  {
   "cell_type": "markdown",
   "metadata": {},
   "source": [
    "# Kraje i ligi"
   ]
  },
  {
   "cell_type": "code",
   "execution_count": 4,
   "metadata": {},
   "outputs": [
    {
     "data": {
      "text/html": [
       "<div>\n",
       "<style scoped>\n",
       "    .dataframe tbody tr th:only-of-type {\n",
       "        vertical-align: middle;\n",
       "    }\n",
       "\n",
       "    .dataframe tbody tr th {\n",
       "        vertical-align: top;\n",
       "    }\n",
       "\n",
       "    .dataframe thead th {\n",
       "        text-align: right;\n",
       "    }\n",
       "</style>\n",
       "<table border=\"1\" class=\"dataframe\">\n",
       "  <thead>\n",
       "    <tr style=\"text-align: right;\">\n",
       "      <th></th>\n",
       "      <th>id</th>\n",
       "      <th>name</th>\n",
       "    </tr>\n",
       "  </thead>\n",
       "  <tbody>\n",
       "    <tr>\n",
       "      <th>0</th>\n",
       "      <td>1729</td>\n",
       "      <td>England</td>\n",
       "    </tr>\n",
       "  </tbody>\n",
       "</table>\n",
       "</div>"
      ],
      "text/plain": [
       "     id     name\n",
       "0  1729  England"
      ]
     },
     "execution_count": 4,
     "metadata": {},
     "output_type": "execute_result"
    }
   ],
   "source": [
    "countries = pd.read_sql_query('SELECT * FROM Country;', conn)\n",
    "countries"
   ]
  },
  {
   "cell_type": "code",
   "execution_count": 5,
   "metadata": {},
   "outputs": [
    {
     "data": {
      "text/html": [
       "<div>\n",
       "<style scoped>\n",
       "    .dataframe tbody tr th:only-of-type {\n",
       "        vertical-align: middle;\n",
       "    }\n",
       "\n",
       "    .dataframe tbody tr th {\n",
       "        vertical-align: top;\n",
       "    }\n",
       "\n",
       "    .dataframe thead th {\n",
       "        text-align: right;\n",
       "    }\n",
       "</style>\n",
       "<table border=\"1\" class=\"dataframe\">\n",
       "  <thead>\n",
       "    <tr style=\"text-align: right;\">\n",
       "      <th></th>\n",
       "      <th>id</th>\n",
       "      <th>country_id</th>\n",
       "      <th>name</th>\n",
       "    </tr>\n",
       "  </thead>\n",
       "  <tbody>\n",
       "    <tr>\n",
       "      <th>0</th>\n",
       "      <td>1729</td>\n",
       "      <td>1729</td>\n",
       "      <td>England Premier League</td>\n",
       "    </tr>\n",
       "  </tbody>\n",
       "</table>\n",
       "</div>"
      ],
      "text/plain": [
       "     id  country_id                    name\n",
       "0  1729        1729  England Premier League"
      ]
     },
     "execution_count": 5,
     "metadata": {},
     "output_type": "execute_result"
    }
   ],
   "source": [
    "leagues = pd.read_sql_query('SELECT * FROM League;', conn)\n",
    "leagues"
   ]
  },
  {
   "cell_type": "markdown",
   "metadata": {},
   "source": [
    "##### Analizujemy tylko wyniki gier angielskiej Premier League, stąd tylko jeden kraj i liga."
   ]
  },
  {
   "cell_type": "markdown",
   "metadata": {},
   "source": [
    "# Drużyny"
   ]
  },
  {
   "cell_type": "code",
   "execution_count": 6,
   "metadata": {},
   "outputs": [
    {
     "data": {
      "text/html": [
       "<div>\n",
       "<style scoped>\n",
       "    .dataframe tbody tr th:only-of-type {\n",
       "        vertical-align: middle;\n",
       "    }\n",
       "\n",
       "    .dataframe tbody tr th {\n",
       "        vertical-align: top;\n",
       "    }\n",
       "\n",
       "    .dataframe thead th {\n",
       "        text-align: right;\n",
       "    }\n",
       "</style>\n",
       "<table border=\"1\" class=\"dataframe\">\n",
       "  <thead>\n",
       "    <tr style=\"text-align: right;\">\n",
       "      <th></th>\n",
       "      <th>id</th>\n",
       "      <th>team_api_id</th>\n",
       "      <th>team_fifa_api_id</th>\n",
       "      <th>team_long_name</th>\n",
       "      <th>team_short_name</th>\n",
       "    </tr>\n",
       "  </thead>\n",
       "  <tbody>\n",
       "    <tr>\n",
       "      <th>0</th>\n",
       "      <td>3457</td>\n",
       "      <td>10260</td>\n",
       "      <td>11</td>\n",
       "      <td>Manchester United</td>\n",
       "      <td>MUN</td>\n",
       "    </tr>\n",
       "    <tr>\n",
       "      <th>1</th>\n",
       "      <td>3458</td>\n",
       "      <td>10261</td>\n",
       "      <td>13</td>\n",
       "      <td>Newcastle United</td>\n",
       "      <td>NEW</td>\n",
       "    </tr>\n",
       "    <tr>\n",
       "      <th>2</th>\n",
       "      <td>3459</td>\n",
       "      <td>9825</td>\n",
       "      <td>1</td>\n",
       "      <td>Arsenal</td>\n",
       "      <td>ARS</td>\n",
       "    </tr>\n",
       "    <tr>\n",
       "      <th>3</th>\n",
       "      <td>3460</td>\n",
       "      <td>8659</td>\n",
       "      <td>109</td>\n",
       "      <td>West Bromwich Albion</td>\n",
       "      <td>WBA</td>\n",
       "    </tr>\n",
       "    <tr>\n",
       "      <th>4</th>\n",
       "      <td>3461</td>\n",
       "      <td>8472</td>\n",
       "      <td>106</td>\n",
       "      <td>Sunderland</td>\n",
       "      <td>SUN</td>\n",
       "    </tr>\n",
       "    <tr>\n",
       "      <th>5</th>\n",
       "      <td>3462</td>\n",
       "      <td>8650</td>\n",
       "      <td>9</td>\n",
       "      <td>Liverpool</td>\n",
       "      <td>LIV</td>\n",
       "    </tr>\n",
       "    <tr>\n",
       "      <th>6</th>\n",
       "      <td>3463</td>\n",
       "      <td>8654</td>\n",
       "      <td>19</td>\n",
       "      <td>West Ham United</td>\n",
       "      <td>WHU</td>\n",
       "    </tr>\n",
       "    <tr>\n",
       "      <th>7</th>\n",
       "      <td>3464</td>\n",
       "      <td>8528</td>\n",
       "      <td>1917</td>\n",
       "      <td>Wigan Athletic</td>\n",
       "      <td>WIG</td>\n",
       "    </tr>\n",
       "    <tr>\n",
       "      <th>8</th>\n",
       "      <td>3465</td>\n",
       "      <td>10252</td>\n",
       "      <td>2</td>\n",
       "      <td>Aston Villa</td>\n",
       "      <td>AVL</td>\n",
       "    </tr>\n",
       "    <tr>\n",
       "      <th>9</th>\n",
       "      <td>3466</td>\n",
       "      <td>8456</td>\n",
       "      <td>10</td>\n",
       "      <td>Manchester City</td>\n",
       "      <td>MCI</td>\n",
       "    </tr>\n",
       "    <tr>\n",
       "      <th>10</th>\n",
       "      <td>3467</td>\n",
       "      <td>8668</td>\n",
       "      <td>7</td>\n",
       "      <td>Everton</td>\n",
       "      <td>EVE</td>\n",
       "    </tr>\n",
       "    <tr>\n",
       "      <th>11</th>\n",
       "      <td>3468</td>\n",
       "      <td>8655</td>\n",
       "      <td>3</td>\n",
       "      <td>Blackburn Rovers</td>\n",
       "      <td>BLB</td>\n",
       "    </tr>\n",
       "    <tr>\n",
       "      <th>12</th>\n",
       "      <td>3469</td>\n",
       "      <td>8549</td>\n",
       "      <td>12</td>\n",
       "      <td>Middlesbrough</td>\n",
       "      <td>MID</td>\n",
       "    </tr>\n",
       "    <tr>\n",
       "      <th>13</th>\n",
       "      <td>3470</td>\n",
       "      <td>8586</td>\n",
       "      <td>18</td>\n",
       "      <td>Tottenham Hotspur</td>\n",
       "      <td>TOT</td>\n",
       "    </tr>\n",
       "    <tr>\n",
       "      <th>14</th>\n",
       "      <td>3471</td>\n",
       "      <td>8559</td>\n",
       "      <td>4</td>\n",
       "      <td>Bolton Wanderers</td>\n",
       "      <td>BOL</td>\n",
       "    </tr>\n",
       "    <tr>\n",
       "      <th>15</th>\n",
       "      <td>3472</td>\n",
       "      <td>10194</td>\n",
       "      <td>1806</td>\n",
       "      <td>Stoke City</td>\n",
       "      <td>STK</td>\n",
       "    </tr>\n",
       "    <tr>\n",
       "      <th>16</th>\n",
       "      <td>3473</td>\n",
       "      <td>8667</td>\n",
       "      <td>1952</td>\n",
       "      <td>Hull City</td>\n",
       "      <td>HUL</td>\n",
       "    </tr>\n",
       "    <tr>\n",
       "      <th>17</th>\n",
       "      <td>3474</td>\n",
       "      <td>9879</td>\n",
       "      <td>144</td>\n",
       "      <td>Fulham</td>\n",
       "      <td>FUL</td>\n",
       "    </tr>\n",
       "    <tr>\n",
       "      <th>18</th>\n",
       "      <td>3475</td>\n",
       "      <td>8455</td>\n",
       "      <td>5</td>\n",
       "      <td>Chelsea</td>\n",
       "      <td>CHE</td>\n",
       "    </tr>\n",
       "    <tr>\n",
       "      <th>19</th>\n",
       "      <td>3476</td>\n",
       "      <td>8462</td>\n",
       "      <td>1790</td>\n",
       "      <td>Portsmouth</td>\n",
       "      <td>POR</td>\n",
       "    </tr>\n",
       "    <tr>\n",
       "      <th>20</th>\n",
       "      <td>4218</td>\n",
       "      <td>8658</td>\n",
       "      <td>88</td>\n",
       "      <td>Birmingham City</td>\n",
       "      <td>BIR</td>\n",
       "    </tr>\n",
       "    <tr>\n",
       "      <th>21</th>\n",
       "      <td>4225</td>\n",
       "      <td>8602</td>\n",
       "      <td>110</td>\n",
       "      <td>Wolverhampton Wanderers</td>\n",
       "      <td>WOL</td>\n",
       "    </tr>\n",
       "    <tr>\n",
       "      <th>22</th>\n",
       "      <td>4234</td>\n",
       "      <td>8191</td>\n",
       "      <td>1796</td>\n",
       "      <td>Burnley</td>\n",
       "      <td>BUR</td>\n",
       "    </tr>\n",
       "    <tr>\n",
       "      <th>23</th>\n",
       "      <td>4996</td>\n",
       "      <td>8483</td>\n",
       "      <td>1926</td>\n",
       "      <td>Blackpool</td>\n",
       "      <td>BLA</td>\n",
       "    </tr>\n",
       "    <tr>\n",
       "      <th>24</th>\n",
       "      <td>5744</td>\n",
       "      <td>10003</td>\n",
       "      <td>1960</td>\n",
       "      <td>Swansea City</td>\n",
       "      <td>SWA</td>\n",
       "    </tr>\n",
       "    <tr>\n",
       "      <th>25</th>\n",
       "      <td>5747</td>\n",
       "      <td>10172</td>\n",
       "      <td>15</td>\n",
       "      <td>Queens Park Rangers</td>\n",
       "      <td>QPR</td>\n",
       "    </tr>\n",
       "    <tr>\n",
       "      <th>26</th>\n",
       "      <td>5756</td>\n",
       "      <td>9850</td>\n",
       "      <td>1792</td>\n",
       "      <td>Norwich City</td>\n",
       "      <td>NOR</td>\n",
       "    </tr>\n",
       "    <tr>\n",
       "      <th>27</th>\n",
       "      <td>6504</td>\n",
       "      <td>8466</td>\n",
       "      <td>17</td>\n",
       "      <td>Southampton</td>\n",
       "      <td>SOU</td>\n",
       "    </tr>\n",
       "    <tr>\n",
       "      <th>28</th>\n",
       "      <td>6509</td>\n",
       "      <td>9798</td>\n",
       "      <td>1793</td>\n",
       "      <td>Reading</td>\n",
       "      <td>REA</td>\n",
       "    </tr>\n",
       "    <tr>\n",
       "      <th>29</th>\n",
       "      <td>7261</td>\n",
       "      <td>9826</td>\n",
       "      <td>1799</td>\n",
       "      <td>Crystal Palace</td>\n",
       "      <td>CRY</td>\n",
       "    </tr>\n",
       "    <tr>\n",
       "      <th>30</th>\n",
       "      <td>7276</td>\n",
       "      <td>8344</td>\n",
       "      <td>1961</td>\n",
       "      <td>Cardiff City</td>\n",
       "      <td>CAR</td>\n",
       "    </tr>\n",
       "    <tr>\n",
       "      <th>31</th>\n",
       "      <td>8021</td>\n",
       "      <td>8197</td>\n",
       "      <td>95</td>\n",
       "      <td>Leicester City</td>\n",
       "      <td>LEI</td>\n",
       "    </tr>\n",
       "    <tr>\n",
       "      <th>32</th>\n",
       "      <td>8779</td>\n",
       "      <td>8678</td>\n",
       "      <td>1943</td>\n",
       "      <td>Bournemouth</td>\n",
       "      <td>BOU</td>\n",
       "    </tr>\n",
       "    <tr>\n",
       "      <th>33</th>\n",
       "      <td>8784</td>\n",
       "      <td>9817</td>\n",
       "      <td>1795</td>\n",
       "      <td>Watford</td>\n",
       "      <td>WAT</td>\n",
       "    </tr>\n",
       "  </tbody>\n",
       "</table>\n",
       "</div>"
      ],
      "text/plain": [
       "      id  team_api_id  team_fifa_api_id           team_long_name  \\\n",
       "0   3457        10260                11        Manchester United   \n",
       "1   3458        10261                13         Newcastle United   \n",
       "2   3459         9825                 1                  Arsenal   \n",
       "3   3460         8659               109     West Bromwich Albion   \n",
       "4   3461         8472               106               Sunderland   \n",
       "5   3462         8650                 9                Liverpool   \n",
       "6   3463         8654                19          West Ham United   \n",
       "7   3464         8528              1917           Wigan Athletic   \n",
       "8   3465        10252                 2              Aston Villa   \n",
       "9   3466         8456                10          Manchester City   \n",
       "10  3467         8668                 7                  Everton   \n",
       "11  3468         8655                 3         Blackburn Rovers   \n",
       "12  3469         8549                12            Middlesbrough   \n",
       "13  3470         8586                18        Tottenham Hotspur   \n",
       "14  3471         8559                 4         Bolton Wanderers   \n",
       "15  3472        10194              1806               Stoke City   \n",
       "16  3473         8667              1952                Hull City   \n",
       "17  3474         9879               144                   Fulham   \n",
       "18  3475         8455                 5                  Chelsea   \n",
       "19  3476         8462              1790               Portsmouth   \n",
       "20  4218         8658                88          Birmingham City   \n",
       "21  4225         8602               110  Wolverhampton Wanderers   \n",
       "22  4234         8191              1796                  Burnley   \n",
       "23  4996         8483              1926                Blackpool   \n",
       "24  5744        10003              1960             Swansea City   \n",
       "25  5747        10172                15      Queens Park Rangers   \n",
       "26  5756         9850              1792             Norwich City   \n",
       "27  6504         8466                17              Southampton   \n",
       "28  6509         9798              1793                  Reading   \n",
       "29  7261         9826              1799           Crystal Palace   \n",
       "30  7276         8344              1961             Cardiff City   \n",
       "31  8021         8197                95           Leicester City   \n",
       "32  8779         8678              1943              Bournemouth   \n",
       "33  8784         9817              1795                  Watford   \n",
       "\n",
       "   team_short_name  \n",
       "0              MUN  \n",
       "1              NEW  \n",
       "2              ARS  \n",
       "3              WBA  \n",
       "4              SUN  \n",
       "5              LIV  \n",
       "6              WHU  \n",
       "7              WIG  \n",
       "8              AVL  \n",
       "9              MCI  \n",
       "10             EVE  \n",
       "11             BLB  \n",
       "12             MID  \n",
       "13             TOT  \n",
       "14             BOL  \n",
       "15             STK  \n",
       "16             HUL  \n",
       "17             FUL  \n",
       "18             CHE  \n",
       "19             POR  \n",
       "20             BIR  \n",
       "21             WOL  \n",
       "22             BUR  \n",
       "23             BLA  \n",
       "24             SWA  \n",
       "25             QPR  \n",
       "26             NOR  \n",
       "27             SOU  \n",
       "28             REA  \n",
       "29             CRY  \n",
       "30             CAR  \n",
       "31             LEI  \n",
       "32             BOU  \n",
       "33             WAT  "
      ]
     },
     "execution_count": 6,
     "metadata": {},
     "output_type": "execute_result"
    }
   ],
   "source": [
    "teams = pd.read_sql_query('SELECT * FROM Team;', conn)\n",
    "teams"
   ]
  },
  {
   "cell_type": "code",
   "execution_count": 7,
   "metadata": {},
   "outputs": [
    {
     "name": "stdout",
     "output_type": "stream",
     "text": [
      "<class 'pandas.core.frame.DataFrame'>\n",
      "RangeIndex: 34 entries, 0 to 33\n",
      "Data columns (total 5 columns):\n",
      " #   Column            Non-Null Count  Dtype \n",
      "---  ------            --------------  ----- \n",
      " 0   id                34 non-null     int64 \n",
      " 1   team_api_id       34 non-null     int64 \n",
      " 2   team_fifa_api_id  34 non-null     int64 \n",
      " 3   team_long_name    34 non-null     object\n",
      " 4   team_short_name   34 non-null     object\n",
      "dtypes: int64(3), object(2)\n",
      "memory usage: 1.5+ KB\n"
     ]
    }
   ],
   "source": [
    "teams.info()"
   ]
  },
  {
   "cell_type": "markdown",
   "metadata": {},
   "source": [
    "##### Wszystkie wartości dla każdej drużyny poprawnie podane."
   ]
  },
  {
   "cell_type": "markdown",
   "metadata": {},
   "source": [
    "# Atrybuty drużyn"
   ]
  },
  {
   "cell_type": "code",
   "execution_count": 8,
   "metadata": {},
   "outputs": [
    {
     "name": "stdout",
     "output_type": "stream",
     "text": [
      "<class 'pandas.core.frame.DataFrame'>\n",
      "RangeIndex: 204 entries, 0 to 203\n",
      "Data columns (total 25 columns):\n",
      " #   Column                          Non-Null Count  Dtype         \n",
      "---  ------                          --------------  -----         \n",
      " 0   id                              204 non-null    int64         \n",
      " 1   team_fifa_api_id                204 non-null    int64         \n",
      " 2   team_api_id                     204 non-null    int64         \n",
      " 3   date                            204 non-null    datetime64[ns]\n",
      " 4   buildUpPlaySpeed                204 non-null    int64         \n",
      " 5   buildUpPlaySpeedClass           204 non-null    object        \n",
      " 6   buildUpPlayDribbling            68 non-null     float64       \n",
      " 7   buildUpPlayDribblingClass       204 non-null    object        \n",
      " 8   buildUpPlayPassing              204 non-null    int64         \n",
      " 9   buildUpPlayPassingClass         204 non-null    object        \n",
      " 10  buildUpPlayPositioningClass     204 non-null    object        \n",
      " 11  chanceCreationPassing           204 non-null    int64         \n",
      " 12  chanceCreationPassingClass      204 non-null    object        \n",
      " 13  chanceCreationCrossing          204 non-null    int64         \n",
      " 14  chanceCreationCrossingClass     204 non-null    object        \n",
      " 15  chanceCreationShooting          204 non-null    int64         \n",
      " 16  chanceCreationShootingClass     204 non-null    object        \n",
      " 17  chanceCreationPositioningClass  204 non-null    object        \n",
      " 18  defencePressure                 204 non-null    int64         \n",
      " 19  defencePressureClass            204 non-null    object        \n",
      " 20  defenceAggression               204 non-null    int64         \n",
      " 21  defenceAggressionClass          204 non-null    object        \n",
      " 22  defenceTeamWidth                204 non-null    int64         \n",
      " 23  defenceTeamWidthClass           204 non-null    object        \n",
      " 24  defenceDefenderLineClass        204 non-null    object        \n",
      "dtypes: datetime64[ns](1), float64(1), int64(11), object(12)\n",
      "memory usage: 40.0+ KB\n"
     ]
    }
   ],
   "source": [
    "team_attr = pd.read_sql_query('SELECT * FROM Team_Attributes;', conn)\n",
    "team_attr.info()"
   ]
  },
  {
   "cell_type": "markdown",
   "metadata": {},
   "source": [
    "##### Wartości dla wszystkich atrybutów z wyjątkiej buildUpPlayDribbling są prawidłowo podane. Z uwagi na to że danych do tego atrybutu brakuje dosyć sporo, prawdopodobnie z niego zrezygnujemy."
   ]
  },
  {
   "cell_type": "code",
   "execution_count": 9,
   "metadata": {},
   "outputs": [
    {
     "data": {
      "text/html": [
       "<div>\n",
       "<style scoped>\n",
       "    .dataframe tbody tr th:only-of-type {\n",
       "        vertical-align: middle;\n",
       "    }\n",
       "\n",
       "    .dataframe tbody tr th {\n",
       "        vertical-align: top;\n",
       "    }\n",
       "\n",
       "    .dataframe thead th {\n",
       "        text-align: right;\n",
       "    }\n",
       "</style>\n",
       "<table border=\"1\" class=\"dataframe\">\n",
       "  <thead>\n",
       "    <tr style=\"text-align: right;\">\n",
       "      <th></th>\n",
       "      <th>id</th>\n",
       "      <th>team_fifa_api_id</th>\n",
       "      <th>team_api_id</th>\n",
       "      <th>date</th>\n",
       "      <th>buildUpPlaySpeed</th>\n",
       "      <th>buildUpPlaySpeedClass</th>\n",
       "      <th>buildUpPlayDribbling</th>\n",
       "      <th>buildUpPlayDribblingClass</th>\n",
       "      <th>buildUpPlayPassing</th>\n",
       "      <th>buildUpPlayPassingClass</th>\n",
       "      <th>...</th>\n",
       "      <th>chanceCreationShooting</th>\n",
       "      <th>chanceCreationShootingClass</th>\n",
       "      <th>chanceCreationPositioningClass</th>\n",
       "      <th>defencePressure</th>\n",
       "      <th>defencePressureClass</th>\n",
       "      <th>defenceAggression</th>\n",
       "      <th>defenceAggressionClass</th>\n",
       "      <th>defenceTeamWidth</th>\n",
       "      <th>defenceTeamWidthClass</th>\n",
       "      <th>defenceDefenderLineClass</th>\n",
       "    </tr>\n",
       "  </thead>\n",
       "  <tbody>\n",
       "    <tr>\n",
       "      <th>0</th>\n",
       "      <td>71</td>\n",
       "      <td>1</td>\n",
       "      <td>9825</td>\n",
       "      <td>2010-02-22</td>\n",
       "      <td>66</td>\n",
       "      <td>Balanced</td>\n",
       "      <td>NaN</td>\n",
       "      <td>Little</td>\n",
       "      <td>30</td>\n",
       "      <td>Short</td>\n",
       "      <td>...</td>\n",
       "      <td>35</td>\n",
       "      <td>Normal</td>\n",
       "      <td>Free Form</td>\n",
       "      <td>30</td>\n",
       "      <td>Deep</td>\n",
       "      <td>40</td>\n",
       "      <td>Press</td>\n",
       "      <td>50</td>\n",
       "      <td>Normal</td>\n",
       "      <td>Cover</td>\n",
       "    </tr>\n",
       "    <tr>\n",
       "      <th>1</th>\n",
       "      <td>72</td>\n",
       "      <td>1</td>\n",
       "      <td>9825</td>\n",
       "      <td>2011-02-22</td>\n",
       "      <td>75</td>\n",
       "      <td>Fast</td>\n",
       "      <td>NaN</td>\n",
       "      <td>Little</td>\n",
       "      <td>40</td>\n",
       "      <td>Mixed</td>\n",
       "      <td>...</td>\n",
       "      <td>65</td>\n",
       "      <td>Normal</td>\n",
       "      <td>Free Form</td>\n",
       "      <td>50</td>\n",
       "      <td>Medium</td>\n",
       "      <td>40</td>\n",
       "      <td>Press</td>\n",
       "      <td>45</td>\n",
       "      <td>Normal</td>\n",
       "      <td>Cover</td>\n",
       "    </tr>\n",
       "    <tr>\n",
       "      <th>2</th>\n",
       "      <td>73</td>\n",
       "      <td>1</td>\n",
       "      <td>9825</td>\n",
       "      <td>2012-02-22</td>\n",
       "      <td>25</td>\n",
       "      <td>Slow</td>\n",
       "      <td>NaN</td>\n",
       "      <td>Little</td>\n",
       "      <td>32</td>\n",
       "      <td>Short</td>\n",
       "      <td>...</td>\n",
       "      <td>30</td>\n",
       "      <td>Little</td>\n",
       "      <td>Free Form</td>\n",
       "      <td>57</td>\n",
       "      <td>Medium</td>\n",
       "      <td>57</td>\n",
       "      <td>Press</td>\n",
       "      <td>52</td>\n",
       "      <td>Normal</td>\n",
       "      <td>Cover</td>\n",
       "    </tr>\n",
       "    <tr>\n",
       "      <th>3</th>\n",
       "      <td>74</td>\n",
       "      <td>1</td>\n",
       "      <td>9825</td>\n",
       "      <td>2013-09-20</td>\n",
       "      <td>30</td>\n",
       "      <td>Slow</td>\n",
       "      <td>NaN</td>\n",
       "      <td>Little</td>\n",
       "      <td>29</td>\n",
       "      <td>Short</td>\n",
       "      <td>...</td>\n",
       "      <td>39</td>\n",
       "      <td>Normal</td>\n",
       "      <td>Free Form</td>\n",
       "      <td>64</td>\n",
       "      <td>Medium</td>\n",
       "      <td>54</td>\n",
       "      <td>Press</td>\n",
       "      <td>52</td>\n",
       "      <td>Normal</td>\n",
       "      <td>Cover</td>\n",
       "    </tr>\n",
       "    <tr>\n",
       "      <th>4</th>\n",
       "      <td>75</td>\n",
       "      <td>1</td>\n",
       "      <td>9825</td>\n",
       "      <td>2014-09-19</td>\n",
       "      <td>59</td>\n",
       "      <td>Balanced</td>\n",
       "      <td>51.0</td>\n",
       "      <td>Normal</td>\n",
       "      <td>26</td>\n",
       "      <td>Short</td>\n",
       "      <td>...</td>\n",
       "      <td>64</td>\n",
       "      <td>Normal</td>\n",
       "      <td>Free Form</td>\n",
       "      <td>51</td>\n",
       "      <td>Medium</td>\n",
       "      <td>44</td>\n",
       "      <td>Press</td>\n",
       "      <td>52</td>\n",
       "      <td>Normal</td>\n",
       "      <td>Cover</td>\n",
       "    </tr>\n",
       "    <tr>\n",
       "      <th>5</th>\n",
       "      <td>76</td>\n",
       "      <td>1</td>\n",
       "      <td>9825</td>\n",
       "      <td>2015-09-10</td>\n",
       "      <td>59</td>\n",
       "      <td>Balanced</td>\n",
       "      <td>51.0</td>\n",
       "      <td>Normal</td>\n",
       "      <td>30</td>\n",
       "      <td>Short</td>\n",
       "      <td>...</td>\n",
       "      <td>46</td>\n",
       "      <td>Normal</td>\n",
       "      <td>Free Form</td>\n",
       "      <td>51</td>\n",
       "      <td>Medium</td>\n",
       "      <td>44</td>\n",
       "      <td>Press</td>\n",
       "      <td>52</td>\n",
       "      <td>Normal</td>\n",
       "      <td>Cover</td>\n",
       "    </tr>\n",
       "    <tr>\n",
       "      <th>6</th>\n",
       "      <td>77</td>\n",
       "      <td>2</td>\n",
       "      <td>10252</td>\n",
       "      <td>2010-02-22</td>\n",
       "      <td>70</td>\n",
       "      <td>Fast</td>\n",
       "      <td>NaN</td>\n",
       "      <td>Little</td>\n",
       "      <td>59</td>\n",
       "      <td>Mixed</td>\n",
       "      <td>...</td>\n",
       "      <td>50</td>\n",
       "      <td>Normal</td>\n",
       "      <td>Free Form</td>\n",
       "      <td>30</td>\n",
       "      <td>Deep</td>\n",
       "      <td>70</td>\n",
       "      <td>Double</td>\n",
       "      <td>30</td>\n",
       "      <td>Narrow</td>\n",
       "      <td>Cover</td>\n",
       "    </tr>\n",
       "    <tr>\n",
       "      <th>7</th>\n",
       "      <td>78</td>\n",
       "      <td>2</td>\n",
       "      <td>10252</td>\n",
       "      <td>2011-02-22</td>\n",
       "      <td>65</td>\n",
       "      <td>Balanced</td>\n",
       "      <td>NaN</td>\n",
       "      <td>Little</td>\n",
       "      <td>50</td>\n",
       "      <td>Mixed</td>\n",
       "      <td>...</td>\n",
       "      <td>50</td>\n",
       "      <td>Normal</td>\n",
       "      <td>Organised</td>\n",
       "      <td>35</td>\n",
       "      <td>Medium</td>\n",
       "      <td>45</td>\n",
       "      <td>Press</td>\n",
       "      <td>65</td>\n",
       "      <td>Normal</td>\n",
       "      <td>Cover</td>\n",
       "    </tr>\n",
       "    <tr>\n",
       "      <th>8</th>\n",
       "      <td>79</td>\n",
       "      <td>2</td>\n",
       "      <td>10252</td>\n",
       "      <td>2012-02-22</td>\n",
       "      <td>67</td>\n",
       "      <td>Fast</td>\n",
       "      <td>NaN</td>\n",
       "      <td>Little</td>\n",
       "      <td>58</td>\n",
       "      <td>Mixed</td>\n",
       "      <td>...</td>\n",
       "      <td>56</td>\n",
       "      <td>Normal</td>\n",
       "      <td>Organised</td>\n",
       "      <td>43</td>\n",
       "      <td>Medium</td>\n",
       "      <td>50</td>\n",
       "      <td>Press</td>\n",
       "      <td>52</td>\n",
       "      <td>Normal</td>\n",
       "      <td>Cover</td>\n",
       "    </tr>\n",
       "    <tr>\n",
       "      <th>9</th>\n",
       "      <td>80</td>\n",
       "      <td>2</td>\n",
       "      <td>10252</td>\n",
       "      <td>2013-09-20</td>\n",
       "      <td>63</td>\n",
       "      <td>Balanced</td>\n",
       "      <td>NaN</td>\n",
       "      <td>Little</td>\n",
       "      <td>59</td>\n",
       "      <td>Mixed</td>\n",
       "      <td>...</td>\n",
       "      <td>34</td>\n",
       "      <td>Normal</td>\n",
       "      <td>Organised</td>\n",
       "      <td>39</td>\n",
       "      <td>Medium</td>\n",
       "      <td>41</td>\n",
       "      <td>Press</td>\n",
       "      <td>54</td>\n",
       "      <td>Normal</td>\n",
       "      <td>Cover</td>\n",
       "    </tr>\n",
       "  </tbody>\n",
       "</table>\n",
       "<p>10 rows × 25 columns</p>\n",
       "</div>"
      ],
      "text/plain": [
       "   id  team_fifa_api_id  team_api_id       date  buildUpPlaySpeed  \\\n",
       "0  71                 1         9825 2010-02-22                66   \n",
       "1  72                 1         9825 2011-02-22                75   \n",
       "2  73                 1         9825 2012-02-22                25   \n",
       "3  74                 1         9825 2013-09-20                30   \n",
       "4  75                 1         9825 2014-09-19                59   \n",
       "5  76                 1         9825 2015-09-10                59   \n",
       "6  77                 2        10252 2010-02-22                70   \n",
       "7  78                 2        10252 2011-02-22                65   \n",
       "8  79                 2        10252 2012-02-22                67   \n",
       "9  80                 2        10252 2013-09-20                63   \n",
       "\n",
       "  buildUpPlaySpeedClass  buildUpPlayDribbling buildUpPlayDribblingClass  \\\n",
       "0              Balanced                   NaN                    Little   \n",
       "1                  Fast                   NaN                    Little   \n",
       "2                  Slow                   NaN                    Little   \n",
       "3                  Slow                   NaN                    Little   \n",
       "4              Balanced                  51.0                    Normal   \n",
       "5              Balanced                  51.0                    Normal   \n",
       "6                  Fast                   NaN                    Little   \n",
       "7              Balanced                   NaN                    Little   \n",
       "8                  Fast                   NaN                    Little   \n",
       "9              Balanced                   NaN                    Little   \n",
       "\n",
       "   buildUpPlayPassing buildUpPlayPassingClass  ... chanceCreationShooting  \\\n",
       "0                  30                   Short  ...                     35   \n",
       "1                  40                   Mixed  ...                     65   \n",
       "2                  32                   Short  ...                     30   \n",
       "3                  29                   Short  ...                     39   \n",
       "4                  26                   Short  ...                     64   \n",
       "5                  30                   Short  ...                     46   \n",
       "6                  59                   Mixed  ...                     50   \n",
       "7                  50                   Mixed  ...                     50   \n",
       "8                  58                   Mixed  ...                     56   \n",
       "9                  59                   Mixed  ...                     34   \n",
       "\n",
       "   chanceCreationShootingClass chanceCreationPositioningClass  \\\n",
       "0                       Normal                      Free Form   \n",
       "1                       Normal                      Free Form   \n",
       "2                       Little                      Free Form   \n",
       "3                       Normal                      Free Form   \n",
       "4                       Normal                      Free Form   \n",
       "5                       Normal                      Free Form   \n",
       "6                       Normal                      Free Form   \n",
       "7                       Normal                      Organised   \n",
       "8                       Normal                      Organised   \n",
       "9                       Normal                      Organised   \n",
       "\n",
       "   defencePressure defencePressureClass  defenceAggression  \\\n",
       "0               30                 Deep                 40   \n",
       "1               50               Medium                 40   \n",
       "2               57               Medium                 57   \n",
       "3               64               Medium                 54   \n",
       "4               51               Medium                 44   \n",
       "5               51               Medium                 44   \n",
       "6               30                 Deep                 70   \n",
       "7               35               Medium                 45   \n",
       "8               43               Medium                 50   \n",
       "9               39               Medium                 41   \n",
       "\n",
       "  defenceAggressionClass defenceTeamWidth  defenceTeamWidthClass  \\\n",
       "0                  Press               50                 Normal   \n",
       "1                  Press               45                 Normal   \n",
       "2                  Press               52                 Normal   \n",
       "3                  Press               52                 Normal   \n",
       "4                  Press               52                 Normal   \n",
       "5                  Press               52                 Normal   \n",
       "6                 Double               30                 Narrow   \n",
       "7                  Press               65                 Normal   \n",
       "8                  Press               52                 Normal   \n",
       "9                  Press               54                 Normal   \n",
       "\n",
       "  defenceDefenderLineClass  \n",
       "0                    Cover  \n",
       "1                    Cover  \n",
       "2                    Cover  \n",
       "3                    Cover  \n",
       "4                    Cover  \n",
       "5                    Cover  \n",
       "6                    Cover  \n",
       "7                    Cover  \n",
       "8                    Cover  \n",
       "9                    Cover  \n",
       "\n",
       "[10 rows x 25 columns]"
      ]
     },
     "execution_count": 9,
     "metadata": {},
     "output_type": "execute_result"
    }
   ],
   "source": [
    "team_attr.head(10)"
   ]
  },
  {
   "cell_type": "markdown",
   "metadata": {},
   "source": [
    "##### Tutaj widać, że dana drużyna ma inny zestaw atrybutów w zależności od daty, aby obrazować aktualną formę i styl grania."
   ]
  },
  {
   "cell_type": "code",
   "execution_count": 10,
   "metadata": {},
   "outputs": [
    {
     "data": {
      "image/png": "[encoded data removed]",
      "text/plain": [
       "<Figure size 1440x1080 with 9 Axes>"
      ]
     },
     "metadata": {
      "needs_background": "light"
     },
     "output_type": "display_data"
    }
   ],
   "source": [
    "team_attr.hist(figsize=(20,15), column=['buildUpPlaySpeed', 'buildUpPlayDribbling', 'buildUpPlayPassing', \n",
    "                                        'chanceCreationPassing', 'chanceCreationCrossing', 'chanceCreationShooting',\n",
    "                                       'defencePressure', 'defenceAggression', 'defenceTeamWidth'])\n",
    "plt.show()"
   ]
  },
  {
   "cell_type": "code",
   "execution_count": 11,
   "metadata": {},
   "outputs": [
    {
     "data": {
      "text/plain": [
       "Balanced    161\n",
       "Fast         39\n",
       "Slow          4\n",
       "Name: buildUpPlaySpeedClass, dtype: int64"
      ]
     },
     "execution_count": 11,
     "metadata": {},
     "output_type": "execute_result"
    }
   ],
   "source": [
    "team_attr['buildUpPlaySpeedClass'].value_counts()"
   ]
  },
  {
   "cell_type": "code",
   "execution_count": 12,
   "metadata": {},
   "outputs": [
    {
     "data": {
      "text/plain": [
       "Little    155\n",
       "Normal     49\n",
       "Name: buildUpPlayDribblingClass, dtype: int64"
      ]
     },
     "execution_count": 12,
     "metadata": {},
     "output_type": "execute_result"
    }
   ],
   "source": [
    "team_attr['buildUpPlayDribblingClass'].value_counts()"
   ]
  },
  {
   "cell_type": "code",
   "execution_count": 13,
   "metadata": {},
   "outputs": [
    {
     "data": {
      "text/plain": [
       "Mixed    151\n",
       "Long      42\n",
       "Short     11\n",
       "Name: buildUpPlayPassingClass, dtype: int64"
      ]
     },
     "execution_count": 13,
     "metadata": {},
     "output_type": "execute_result"
    }
   ],
   "source": [
    "team_attr['buildUpPlayPassingClass'].value_counts()"
   ]
  },
  {
   "cell_type": "code",
   "execution_count": 14,
   "metadata": {},
   "outputs": [
    {
     "data": {
      "text/plain": [
       "Organised    198\n",
       "Free Form      6\n",
       "Name: buildUpPlayPositioningClass, dtype: int64"
      ]
     },
     "execution_count": 14,
     "metadata": {},
     "output_type": "execute_result"
    }
   ],
   "source": [
    "team_attr['buildUpPlayPositioningClass'].value_counts()"
   ]
  },
  {
   "cell_type": "code",
   "execution_count": 15,
   "metadata": {},
   "outputs": [
    {
     "data": {
      "text/plain": [
       "Normal    154\n",
       "Risky      43\n",
       "Safe        7\n",
       "Name: chanceCreationPassingClass, dtype: int64"
      ]
     },
     "execution_count": 15,
     "metadata": {},
     "output_type": "execute_result"
    }
   ],
   "source": [
    "team_attr['chanceCreationPassingClass'].value_counts()"
   ]
  },
  {
   "cell_type": "code",
   "execution_count": 16,
   "metadata": {},
   "outputs": [
    {
     "data": {
      "text/plain": [
       "Normal    144\n",
       "Lots       56\n",
       "Little      4\n",
       "Name: chanceCreationCrossingClass, dtype: int64"
      ]
     },
     "execution_count": 16,
     "metadata": {},
     "output_type": "execute_result"
    }
   ],
   "source": [
    "team_attr['chanceCreationCrossingClass'].value_counts()"
   ]
  },
  {
   "cell_type": "code",
   "execution_count": 17,
   "metadata": {},
   "outputs": [
    {
     "data": {
      "text/plain": [
       "Normal    177\n",
       "Lots       20\n",
       "Little      7\n",
       "Name: chanceCreationShootingClass, dtype: int64"
      ]
     },
     "execution_count": 17,
     "metadata": {},
     "output_type": "execute_result"
    }
   ],
   "source": [
    "team_attr['chanceCreationShootingClass'].value_counts()"
   ]
  },
  {
   "cell_type": "code",
   "execution_count": 18,
   "metadata": {},
   "outputs": [
    {
     "data": {
      "text/plain": [
       "Organised    179\n",
       "Free Form     25\n",
       "Name: chanceCreationPositioningClass, dtype: int64"
      ]
     },
     "execution_count": 18,
     "metadata": {},
     "output_type": "execute_result"
    }
   ],
   "source": [
    "team_attr['chanceCreationPositioningClass'].value_counts()"
   ]
  },
  {
   "cell_type": "code",
   "execution_count": 19,
   "metadata": {},
   "outputs": [
    {
     "data": {
      "text/plain": [
       "Medium    170\n",
       "Deep       21\n",
       "High       13\n",
       "Name: defencePressureClass, dtype: int64"
      ]
     },
     "execution_count": 19,
     "metadata": {},
     "output_type": "execute_result"
    }
   ],
   "source": [
    "team_attr['defencePressureClass'].value_counts()"
   ]
  },
  {
   "cell_type": "code",
   "execution_count": 20,
   "metadata": {},
   "outputs": [
    {
     "data": {
      "text/plain": [
       "Press      174\n",
       "Double      24\n",
       "Contain      6\n",
       "Name: defenceAggressionClass, dtype: int64"
      ]
     },
     "execution_count": 20,
     "metadata": {},
     "output_type": "execute_result"
    }
   ],
   "source": [
    "team_attr['defenceAggressionClass'].value_counts()"
   ]
  },
  {
   "cell_type": "code",
   "execution_count": 21,
   "metadata": {},
   "outputs": [
    {
     "data": {
      "text/plain": [
       "Normal    184\n",
       "Wide       16\n",
       "Narrow      4\n",
       "Name: defenceTeamWidthClass, dtype: int64"
      ]
     },
     "execution_count": 21,
     "metadata": {},
     "output_type": "execute_result"
    }
   ],
   "source": [
    "team_attr['defenceTeamWidthClass'].value_counts()"
   ]
  },
  {
   "cell_type": "code",
   "execution_count": 22,
   "metadata": {},
   "outputs": [
    {
     "data": {
      "text/plain": [
       "Cover    204\n",
       "Name: defenceDefenderLineClass, dtype: int64"
      ]
     },
     "execution_count": 22,
     "metadata": {},
     "output_type": "execute_result"
    }
   ],
   "source": [
    "team_attr['defenceDefenderLineClass'].value_counts()"
   ]
  },
  {
   "cell_type": "markdown",
   "metadata": {},
   "source": [
    "##### Atrybut defenceDefenderLineClass jest taki sam dla każdej drużyny, stąd można również z niego zrezygnować."
   ]
  },
  {
   "cell_type": "markdown",
   "metadata": {},
   "source": [
    "# Gracze"
   ]
  },
  {
   "cell_type": "code",
   "execution_count": 23,
   "metadata": {},
   "outputs": [
    {
     "data": {
      "text/html": [
       "<div>\n",
       "<style scoped>\n",
       "    .dataframe tbody tr th:only-of-type {\n",
       "        vertical-align: middle;\n",
       "    }\n",
       "\n",
       "    .dataframe tbody tr th {\n",
       "        vertical-align: top;\n",
       "    }\n",
       "\n",
       "    .dataframe thead th {\n",
       "        text-align: right;\n",
       "    }\n",
       "</style>\n",
       "<table border=\"1\" class=\"dataframe\">\n",
       "  <thead>\n",
       "    <tr style=\"text-align: right;\">\n",
       "      <th></th>\n",
       "      <th>id</th>\n",
       "      <th>player_api_id</th>\n",
       "      <th>player_name</th>\n",
       "      <th>player_fifa_api_id</th>\n",
       "      <th>birthday</th>\n",
       "      <th>height</th>\n",
       "      <th>weight</th>\n",
       "    </tr>\n",
       "  </thead>\n",
       "  <tbody>\n",
       "    <tr>\n",
       "      <th>0</th>\n",
       "      <td>2</td>\n",
       "      <td>155782</td>\n",
       "      <td>Aaron Cresswell</td>\n",
       "      <td>189615</td>\n",
       "      <td>1989-12-15</td>\n",
       "      <td>170</td>\n",
       "      <td>146</td>\n",
       "    </tr>\n",
       "    <tr>\n",
       "      <th>1</th>\n",
       "      <td>5</td>\n",
       "      <td>23780</td>\n",
       "      <td>Aaron Hughes</td>\n",
       "      <td>17725</td>\n",
       "      <td>1979-11-08</td>\n",
       "      <td>182</td>\n",
       "      <td>154</td>\n",
       "    </tr>\n",
       "    <tr>\n",
       "      <th>2</th>\n",
       "      <td>8</td>\n",
       "      <td>30895</td>\n",
       "      <td>Aaron Lennon</td>\n",
       "      <td>152747</td>\n",
       "      <td>1987-04-16</td>\n",
       "      <td>165</td>\n",
       "      <td>139</td>\n",
       "    </tr>\n",
       "    <tr>\n",
       "      <th>3</th>\n",
       "      <td>11</td>\n",
       "      <td>23889</td>\n",
       "      <td>Aaron Mokoena</td>\n",
       "      <td>47189</td>\n",
       "      <td>1980-11-25</td>\n",
       "      <td>182</td>\n",
       "      <td>181</td>\n",
       "    </tr>\n",
       "    <tr>\n",
       "      <th>4</th>\n",
       "      <td>15</td>\n",
       "      <td>75489</td>\n",
       "      <td>Aaron Ramsey</td>\n",
       "      <td>186561</td>\n",
       "      <td>1990-12-26</td>\n",
       "      <td>177</td>\n",
       "      <td>154</td>\n",
       "    </tr>\n",
       "    <tr>\n",
       "      <th>5</th>\n",
       "      <td>18</td>\n",
       "      <td>23499</td>\n",
       "      <td>Aaron Wilbraham</td>\n",
       "      <td>2335</td>\n",
       "      <td>1979-10-21</td>\n",
       "      <td>190</td>\n",
       "      <td>159</td>\n",
       "    </tr>\n",
       "    <tr>\n",
       "      <th>6</th>\n",
       "      <td>45</td>\n",
       "      <td>40005</td>\n",
       "      <td>Abdoulaye Faye</td>\n",
       "      <td>100329</td>\n",
       "      <td>1978-02-26</td>\n",
       "      <td>187</td>\n",
       "      <td>218</td>\n",
       "    </tr>\n",
       "    <tr>\n",
       "      <th>7</th>\n",
       "      <td>47</td>\n",
       "      <td>37280</td>\n",
       "      <td>Abdoulaye Meite</td>\n",
       "      <td>41745</td>\n",
       "      <td>1980-10-06</td>\n",
       "      <td>185</td>\n",
       "      <td>181</td>\n",
       "    </tr>\n",
       "    <tr>\n",
       "      <th>8</th>\n",
       "      <td>54</td>\n",
       "      <td>324910</td>\n",
       "      <td>Abdul Rahman Baba</td>\n",
       "      <td>209620</td>\n",
       "      <td>1994-07-02</td>\n",
       "      <td>177</td>\n",
       "      <td>154</td>\n",
       "    </tr>\n",
       "    <tr>\n",
       "      <th>9</th>\n",
       "      <td>63</td>\n",
       "      <td>105548</td>\n",
       "      <td>Abel Hernandez</td>\n",
       "      <td>188484</td>\n",
       "      <td>1990-08-08</td>\n",
       "      <td>185</td>\n",
       "      <td>161</td>\n",
       "    </tr>\n",
       "  </tbody>\n",
       "</table>\n",
       "</div>"
      ],
      "text/plain": [
       "   id  player_api_id        player_name  player_fifa_api_id   birthday  \\\n",
       "0   2         155782    Aaron Cresswell              189615 1989-12-15   \n",
       "1   5          23780       Aaron Hughes               17725 1979-11-08   \n",
       "2   8          30895       Aaron Lennon              152747 1987-04-16   \n",
       "3  11          23889      Aaron Mokoena               47189 1980-11-25   \n",
       "4  15          75489       Aaron Ramsey              186561 1990-12-26   \n",
       "5  18          23499    Aaron Wilbraham                2335 1979-10-21   \n",
       "6  45          40005     Abdoulaye Faye              100329 1978-02-26   \n",
       "7  47          37280    Abdoulaye Meite               41745 1980-10-06   \n",
       "8  54         324910  Abdul Rahman Baba              209620 1994-07-02   \n",
       "9  63         105548     Abel Hernandez              188484 1990-08-08   \n",
       "\n",
       "   height  weight  \n",
       "0     170     146  \n",
       "1     182     154  \n",
       "2     165     139  \n",
       "3     182     181  \n",
       "4     177     154  \n",
       "5     190     159  \n",
       "6     187     218  \n",
       "7     185     181  \n",
       "8     177     154  \n",
       "9     185     161  "
      ]
     },
     "execution_count": 23,
     "metadata": {},
     "output_type": "execute_result"
    }
   ],
   "source": [
    "players = pd.read_sql_query('SELECT * FROM Player;', conn)\n",
    "players.head(10)"
   ]
  },
  {
   "cell_type": "code",
   "execution_count": 24,
   "metadata": {},
   "outputs": [
    {
     "name": "stdout",
     "output_type": "stream",
     "text": [
      "<class 'pandas.core.frame.DataFrame'>\n",
      "RangeIndex: 1397 entries, 0 to 1396\n",
      "Data columns (total 7 columns):\n",
      " #   Column              Non-Null Count  Dtype         \n",
      "---  ------              --------------  -----         \n",
      " 0   id                  1397 non-null   int64         \n",
      " 1   player_api_id       1397 non-null   int64         \n",
      " 2   player_name         1397 non-null   object        \n",
      " 3   player_fifa_api_id  1397 non-null   int64         \n",
      " 4   birthday            1397 non-null   datetime64[ns]\n",
      " 5   height              1397 non-null   int64         \n",
      " 6   weight              1397 non-null   int64         \n",
      "dtypes: datetime64[ns](1), int64(5), object(1)\n",
      "memory usage: 76.5+ KB\n"
     ]
    }
   ],
   "source": [
    "players.info()"
   ]
  },
  {
   "cell_type": "markdown",
   "metadata": {},
   "source": [
    "##### Tutaj również brak niewypełnionych wartości."
   ]
  },
  {
   "cell_type": "code",
   "execution_count": 25,
   "metadata": {},
   "outputs": [
    {
     "data": {
      "text/plain": [
       "count    1397.000000\n",
       "mean       77.451773\n",
       "std         7.243972\n",
       "min        59.874807\n",
       "25%        72.121927\n",
       "50%        77.111494\n",
       "75%        82.101061\n",
       "max       102.059330\n",
       "Name: weight, dtype: float64"
      ]
     },
     "execution_count": 25,
     "metadata": {},
     "output_type": "execute_result"
    }
   ],
   "source": [
    "players['weight'] = players['weight'].apply(lambda weight: weight/2.2046) #convert to kilograms\n",
    "players['weight'].describe()"
   ]
  },
  {
   "cell_type": "code",
   "execution_count": 26,
   "metadata": {},
   "outputs": [
    {
     "data": {
      "text/plain": [
       "count    1397.000000\n",
       "mean      181.901933\n",
       "std         6.521925\n",
       "min       165.000000\n",
       "25%       177.000000\n",
       "50%       182.000000\n",
       "75%       187.000000\n",
       "max       203.000000\n",
       "Name: height, dtype: float64"
      ]
     },
     "execution_count": 26,
     "metadata": {},
     "output_type": "execute_result"
    }
   ],
   "source": [
    "players['height'].describe()"
   ]
  },
  {
   "cell_type": "code",
   "execution_count": 27,
   "metadata": {},
   "outputs": [
    {
     "data": {
      "text/plain": [
       "count    1397.000000\n",
       "mean       30.449535\n",
       "std         5.239513\n",
       "min        17.000000\n",
       "25%        27.000000\n",
       "50%        30.000000\n",
       "75%        34.000000\n",
       "max        47.000000\n",
       "Name: age, dtype: float64"
      ]
     },
     "execution_count": 27,
     "metadata": {},
     "output_type": "execute_result"
    }
   ],
   "source": [
    "players['age'] = players['birthday'].apply(lambda birthday: 2016 - birthday.year)\n",
    "players['age'].describe()"
   ]
  },
  {
   "cell_type": "markdown",
   "metadata": {},
   "source": [
    "##### Sztucznie dodany atrybut wieku, aby sprawdzić czy wartości dat urodzeń poszczególnych zawodników mają \"sensowne\" wartości."
   ]
  },
  {
   "cell_type": "code",
   "execution_count": 28,
   "metadata": {},
   "outputs": [
    {
     "data": {
      "image/png": "[encoded data removed]",
      "text/plain": [
       "<Figure size 648x504 with 4 Axes>"
      ]
     },
     "metadata": {
      "needs_background": "light"
     },
     "output_type": "display_data"
    }
   ],
   "source": [
    "players.hist(column=['height', 'weight', 'age'], bins=15, figsize=(9,7))\n",
    "plt.show()"
   ]
  },
  {
   "cell_type": "markdown",
   "metadata": {},
   "source": [
    "# Atrybuty graczy"
   ]
  },
  {
   "cell_type": "code",
   "execution_count": 29,
   "metadata": {
    "scrolled": false
   },
   "outputs": [
    {
     "name": "stdout",
     "output_type": "stream",
     "text": [
      "<class 'pandas.core.frame.DataFrame'>\n",
      "RangeIndex: 32708 entries, 0 to 32707\n",
      "Data columns (total 42 columns):\n",
      " #   Column               Non-Null Count  Dtype         \n",
      "---  ------               --------------  -----         \n",
      " 0   id                   32708 non-null  int64         \n",
      " 1   player_fifa_api_id   32708 non-null  int64         \n",
      " 2   player_api_id        32708 non-null  int64         \n",
      " 3   date                 32708 non-null  datetime64[ns]\n",
      " 4   overall_rating       32556 non-null  float64       \n",
      " 5   potential            32556 non-null  float64       \n",
      " 6   preferred_foot       32556 non-null  object        \n",
      " 7   attacking_work_rate  32399 non-null  object        \n",
      " 8   defensive_work_rate  32556 non-null  object        \n",
      " 9   crossing             32556 non-null  float64       \n",
      " 10  finishing            32556 non-null  float64       \n",
      " 11  heading_accuracy     32556 non-null  float64       \n",
      " 12  short_passing        32556 non-null  float64       \n",
      " 13  volleys              32453 non-null  float64       \n",
      " 14  dribbling            32556 non-null  float64       \n",
      " 15  curve                32453 non-null  float64       \n",
      " 16  free_kick_accuracy   32556 non-null  float64       \n",
      " 17  long_passing         32556 non-null  float64       \n",
      " 18  ball_control         32556 non-null  float64       \n",
      " 19  acceleration         32556 non-null  float64       \n",
      " 20  sprint_speed         32556 non-null  float64       \n",
      " 21  agility              32453 non-null  float64       \n",
      " 22  reactions            32556 non-null  float64       \n",
      " 23  balance              32453 non-null  float64       \n",
      " 24  shot_power           32556 non-null  float64       \n",
      " 25  jumping              32453 non-null  float64       \n",
      " 26  stamina              32556 non-null  float64       \n",
      " 27  strength             32556 non-null  float64       \n",
      " 28  long_shots           32556 non-null  float64       \n",
      " 29  aggression           32556 non-null  float64       \n",
      " 30  interceptions        32556 non-null  float64       \n",
      " 31  positioning          32556 non-null  float64       \n",
      " 32  vision               32453 non-null  float64       \n",
      " 33  penalties            32556 non-null  float64       \n",
      " 34  marking              32556 non-null  float64       \n",
      " 35  standing_tackle      32556 non-null  float64       \n",
      " 36  sliding_tackle       32453 non-null  float64       \n",
      " 37  gk_diving            32556 non-null  float64       \n",
      " 38  gk_handling          32556 non-null  float64       \n",
      " 39  gk_kicking           32556 non-null  float64       \n",
      " 40  gk_positioning       32556 non-null  float64       \n",
      " 41  gk_reflexes          32556 non-null  float64       \n",
      "dtypes: datetime64[ns](1), float64(35), int64(3), object(3)\n",
      "memory usage: 10.5+ MB\n"
     ]
    }
   ],
   "source": [
    "player_attr = pd.read_sql_query('SELECT * FROM Player_Attributes;', conn)\n",
    "player_attr.info()"
   ]
  },
  {
   "cell_type": "markdown",
   "metadata": {},
   "source": [
    "##### Brakuje niektórych wartości. Nie ma ich jednak zbyt dużo, więc będzie można uzupełnić je np. wartościami średnimi."
   ]
  },
  {
   "cell_type": "code",
   "execution_count": 30,
   "metadata": {
    "scrolled": false
   },
   "outputs": [
    {
     "data": {
      "image/png": "[encoded data removed]",
      "text/plain": [
       "<Figure size 1584x1296 with 36 Axes>"
      ]
     },
     "metadata": {
      "needs_background": "light"
     },
     "output_type": "display_data"
    }
   ],
   "source": [
    "player_attr.hist(figsize=(22,18), column=player_attr.columns.drop(['id', 'player_fifa_api_id', 'player_api_id']))\n",
    "plt.show()"
   ]
  },
  {
   "cell_type": "code",
   "execution_count": 31,
   "metadata": {},
   "outputs": [
    {
     "data": {
      "text/plain": [
       "right    24278\n",
       "left      8278\n",
       "Name: preferred_foot, dtype: int64"
      ]
     },
     "execution_count": 31,
     "metadata": {},
     "output_type": "execute_result"
    }
   ],
   "source": [
    "player_attr['preferred_foot'].value_counts()"
   ]
  },
  {
   "cell_type": "code",
   "execution_count": 32,
   "metadata": {},
   "outputs": [
    {
     "data": {
      "text/plain": [
       "medium    21321\n",
       "high       9229\n",
       "low        1570\n",
       "None        218\n",
       "y            38\n",
       "stoc         13\n",
       "norm          6\n",
       "le            4\n",
       "Name: attacking_work_rate, dtype: int64"
      ]
     },
     "execution_count": 32,
     "metadata": {},
     "output_type": "execute_result"
    }
   ],
   "source": [
    "player_attr['attacking_work_rate'].value_counts()"
   ]
  },
  {
   "cell_type": "markdown",
   "metadata": {},
   "source": [
    "##### Atrybut posiada przypadkowe wartości, będzie to wymagało uporządkowania."
   ]
  },
  {
   "cell_type": "code",
   "execution_count": 33,
   "metadata": {},
   "outputs": [
    {
     "data": {
      "text/plain": [
       "medium    21325\n",
       "high       6589\n",
       "low        4201\n",
       "_0          157\n",
       "o            64\n",
       "1            38\n",
       "9            38\n",
       "es           38\n",
       "0            38\n",
       "2            20\n",
       "5            16\n",
       "tocky        13\n",
       "7             9\n",
       "ormal         6\n",
       "ean           4\n",
       "Name: defensive_work_rate, dtype: int64"
      ]
     },
     "execution_count": 33,
     "metadata": {},
     "output_type": "execute_result"
    }
   ],
   "source": [
    "player_attr['defensive_work_rate'].value_counts()"
   ]
  },
  {
   "cell_type": "markdown",
   "metadata": {},
   "source": [
    "##### Podobnie jak wyżej, dużo przypadkowych wartości."
   ]
  },
  {
   "cell_type": "markdown",
   "metadata": {},
   "source": [
    "# Elo Rating"
   ]
  },
  {
   "cell_type": "code",
   "execution_count": 34,
   "metadata": {},
   "outputs": [
    {
     "name": "stdout",
     "output_type": "stream",
     "text": [
      "<class 'pandas.core.frame.DataFrame'>\n",
      "Int64Index: 31607 entries, 0 to 31606\n",
      "Data columns (total 12 columns):\n",
      " #   Column            Non-Null Count  Dtype         \n",
      "---  ------            --------------  -----         \n",
      " 0   id                31607 non-null  int64         \n",
      " 1   team_api_id       31607 non-null  int64         \n",
      " 2   team_fifa_api_id  31607 non-null  int64         \n",
      " 3   team_long_name    31607 non-null  object        \n",
      " 4   team_short_name   31607 non-null  object        \n",
      " 5   Id                31607 non-null  int64         \n",
      " 6   Rank              31607 non-null  object        \n",
      " 7   CountryId         31607 non-null  int64         \n",
      " 8   Level             31607 non-null  int64         \n",
      " 9   Elo               31607 non-null  float64       \n",
      " 10  StartDate         31607 non-null  datetime64[ns]\n",
      " 11  EndDate           31607 non-null  datetime64[ns]\n",
      "dtypes: datetime64[ns](2), float64(1), int64(6), object(3)\n",
      "memory usage: 3.1+ MB\n"
     ]
    }
   ],
   "source": [
    "elo = pd.read_sql_query('SELECT * FROM EloRating;', conn)\n",
    "elo = pd.merge(teams, elo, on='team_api_id')\n",
    "elo.info()"
   ]
  },
  {
   "cell_type": "markdown",
   "metadata": {},
   "source": [
    "##### Wszystkie artybuty uzupełnione."
   ]
  },
  {
   "cell_type": "code",
   "execution_count": 35,
   "metadata": {},
   "outputs": [
    {
     "data": {
      "text/html": [
       "<div>\n",
       "<style scoped>\n",
       "    .dataframe tbody tr th:only-of-type {\n",
       "        vertical-align: middle;\n",
       "    }\n",
       "\n",
       "    .dataframe tbody tr th {\n",
       "        vertical-align: top;\n",
       "    }\n",
       "\n",
       "    .dataframe thead th {\n",
       "        text-align: right;\n",
       "    }\n",
       "</style>\n",
       "<table border=\"1\" class=\"dataframe\">\n",
       "  <thead>\n",
       "    <tr style=\"text-align: right;\">\n",
       "      <th></th>\n",
       "      <th>team_long_name</th>\n",
       "      <th>Rank</th>\n",
       "      <th>Elo</th>\n",
       "      <th>StartDate</th>\n",
       "      <th>EndDate</th>\n",
       "    </tr>\n",
       "  </thead>\n",
       "  <tbody>\n",
       "    <tr>\n",
       "      <th>0</th>\n",
       "      <td>Manchester United</td>\n",
       "      <td>3</td>\n",
       "      <td>1930.452148</td>\n",
       "      <td>2007-08-17</td>\n",
       "      <td>2007-08-19</td>\n",
       "    </tr>\n",
       "    <tr>\n",
       "      <th>1</th>\n",
       "      <td>Manchester United</td>\n",
       "      <td>14</td>\n",
       "      <td>1843.027344</td>\n",
       "      <td>2014-08-17</td>\n",
       "      <td>2014-08-19</td>\n",
       "    </tr>\n",
       "    <tr>\n",
       "      <th>2</th>\n",
       "      <td>Manchester United</td>\n",
       "      <td>14</td>\n",
       "      <td>1842.388550</td>\n",
       "      <td>2014-08-20</td>\n",
       "      <td>2014-08-21</td>\n",
       "    </tr>\n",
       "    <tr>\n",
       "      <th>3</th>\n",
       "      <td>Manchester United</td>\n",
       "      <td>15</td>\n",
       "      <td>1840.082642</td>\n",
       "      <td>2014-08-22</td>\n",
       "      <td>2014-08-23</td>\n",
       "    </tr>\n",
       "    <tr>\n",
       "      <th>4</th>\n",
       "      <td>Manchester United</td>\n",
       "      <td>14</td>\n",
       "      <td>1840.082642</td>\n",
       "      <td>2014-08-24</td>\n",
       "      <td>2014-08-24</td>\n",
       "    </tr>\n",
       "    <tr>\n",
       "      <th>5</th>\n",
       "      <td>Manchester United</td>\n",
       "      <td>14</td>\n",
       "      <td>1836.078979</td>\n",
       "      <td>2014-08-25</td>\n",
       "      <td>2014-08-27</td>\n",
       "    </tr>\n",
       "    <tr>\n",
       "      <th>6</th>\n",
       "      <td>Manchester United</td>\n",
       "      <td>15</td>\n",
       "      <td>1837.623047</td>\n",
       "      <td>2014-08-28</td>\n",
       "      <td>2014-08-28</td>\n",
       "    </tr>\n",
       "    <tr>\n",
       "      <th>7</th>\n",
       "      <td>Manchester United</td>\n",
       "      <td>15</td>\n",
       "      <td>1836.348022</td>\n",
       "      <td>2014-08-29</td>\n",
       "      <td>2014-08-30</td>\n",
       "    </tr>\n",
       "    <tr>\n",
       "      <th>8</th>\n",
       "      <td>Manchester United</td>\n",
       "      <td>15</td>\n",
       "      <td>1831.453125</td>\n",
       "      <td>2014-08-31</td>\n",
       "      <td>2014-09-14</td>\n",
       "    </tr>\n",
       "    <tr>\n",
       "      <th>9</th>\n",
       "      <td>Manchester United</td>\n",
       "      <td>15</td>\n",
       "      <td>1835.412964</td>\n",
       "      <td>2014-09-15</td>\n",
       "      <td>2014-09-16</td>\n",
       "    </tr>\n",
       "  </tbody>\n",
       "</table>\n",
       "</div>"
      ],
      "text/plain": [
       "      team_long_name Rank          Elo  StartDate    EndDate\n",
       "0  Manchester United    3  1930.452148 2007-08-17 2007-08-19\n",
       "1  Manchester United   14  1843.027344 2014-08-17 2014-08-19\n",
       "2  Manchester United   14  1842.388550 2014-08-20 2014-08-21\n",
       "3  Manchester United   15  1840.082642 2014-08-22 2014-08-23\n",
       "4  Manchester United   14  1840.082642 2014-08-24 2014-08-24\n",
       "5  Manchester United   14  1836.078979 2014-08-25 2014-08-27\n",
       "6  Manchester United   15  1837.623047 2014-08-28 2014-08-28\n",
       "7  Manchester United   15  1836.348022 2014-08-29 2014-08-30\n",
       "8  Manchester United   15  1831.453125 2014-08-31 2014-09-14\n",
       "9  Manchester United   15  1835.412964 2014-09-15 2014-09-16"
      ]
     },
     "execution_count": 35,
     "metadata": {},
     "output_type": "execute_result"
    }
   ],
   "source": [
    "elo[['team_long_name', 'Rank', 'Elo', 'StartDate', 'EndDate']].head(10)"
   ]
  },
  {
   "cell_type": "markdown",
   "metadata": {},
   "source": [
    "# Mecze"
   ]
  },
  {
   "cell_type": "code",
   "execution_count": 36,
   "metadata": {},
   "outputs": [],
   "source": [
    "matches = pd.read_sql_query('SELECT * FROM Match;', conn)"
   ]
  },
  {
   "cell_type": "code",
   "execution_count": 121,
   "metadata": {},
   "outputs": [
    {
     "data": {
      "text/html": [
       "<div>\n",
       "<style scoped>\n",
       "    .dataframe tbody tr th:only-of-type {\n",
       "        vertical-align: middle;\n",
       "    }\n",
       "\n",
       "    .dataframe tbody tr th {\n",
       "        vertical-align: top;\n",
       "    }\n",
       "\n",
       "    .dataframe thead th {\n",
       "        text-align: right;\n",
       "    }\n",
       "</style>\n",
       "<table border=\"1\" class=\"dataframe\">\n",
       "  <thead>\n",
       "    <tr style=\"text-align: right;\">\n",
       "      <th></th>\n",
       "      <th>league_id</th>\n",
       "      <th>season</th>\n",
       "      <th>match_api_id</th>\n",
       "    </tr>\n",
       "  </thead>\n",
       "  <tbody>\n",
       "    <tr>\n",
       "      <th>0</th>\n",
       "      <td>1729</td>\n",
       "      <td>2008/2009</td>\n",
       "      <td>489042</td>\n",
       "    </tr>\n",
       "    <tr>\n",
       "      <th>1</th>\n",
       "      <td>1729</td>\n",
       "      <td>2008/2009</td>\n",
       "      <td>489043</td>\n",
       "    </tr>\n",
       "    <tr>\n",
       "      <th>2</th>\n",
       "      <td>1729</td>\n",
       "      <td>2008/2009</td>\n",
       "      <td>489044</td>\n",
       "    </tr>\n",
       "    <tr>\n",
       "      <th>3</th>\n",
       "      <td>1729</td>\n",
       "      <td>2008/2009</td>\n",
       "      <td>489045</td>\n",
       "    </tr>\n",
       "    <tr>\n",
       "      <th>4</th>\n",
       "      <td>1729</td>\n",
       "      <td>2008/2009</td>\n",
       "      <td>489046</td>\n",
       "    </tr>\n",
       "  </tbody>\n",
       "</table>\n",
       "</div>"
      ],
      "text/plain": [
       "   league_id     season  match_api_id\n",
       "0       1729  2008/2009        489042\n",
       "1       1729  2008/2009        489043\n",
       "2       1729  2008/2009        489044\n",
       "3       1729  2008/2009        489045\n",
       "4       1729  2008/2009        489046"
      ]
     },
     "execution_count": 121,
     "metadata": {},
     "output_type": "execute_result"
    }
   ],
   "source": [
    "matches.head().iloc[:,[2,3,6]]"
   ]
  },
  {
   "cell_type": "code",
   "execution_count": 38,
   "metadata": {
    "scrolled": false
   },
   "outputs": [
    {
     "name": "stdout",
     "output_type": "stream",
     "text": [
      "                id  country_id  league_id       stage  match_api_id  \\\n",
      "count  3040.000000      3040.0     3040.0  3040.00000  3.040000e+03   \n",
      "mean   3248.500000      1729.0     1729.0    19.50000  1.178767e+06   \n",
      "std     877.716735         0.0        0.0    10.96766  4.909627e+05   \n",
      "min    1729.000000      1729.0     1729.0     1.00000  4.890420e+05   \n",
      "25%    2488.750000      1729.0     1729.0    10.00000  7.946915e+05   \n",
      "50%    3248.500000      1729.0     1729.0    19.50000  1.127220e+06   \n",
      "75%    4008.250000      1729.0     1729.0    29.00000  1.537336e+06   \n",
      "max    4768.000000      1729.0     1729.0    38.00000  1.989079e+06   \n",
      "\n",
      "       home_team_api_id  away_team_api_id  home_team_goal  away_team_goal  \\\n",
      "count        3040.00000        3040.00000     3040.000000     3040.000000   \n",
      "mean         9142.27500        9142.27500        1.550987        1.159539   \n",
      "std           753.08936         753.08936        1.311615        1.144629   \n",
      "min          8191.00000        8191.00000        0.000000        0.000000   \n",
      "25%          8528.00000        8528.00000        1.000000        0.000000   \n",
      "50%          8659.00000        8659.00000        1.000000        1.000000   \n",
      "75%          9879.00000        9879.00000        2.000000        2.000000   \n",
      "max         10261.00000       10261.00000        9.000000        6.000000   \n",
      "\n",
      "       home_player_X1  home_player_X2  home_player_X3  home_player_X4  \\\n",
      "count          3040.0     3040.000000     3040.000000     3040.000000   \n",
      "mean              1.0        2.030263        4.029934        6.022368   \n",
      "std               0.0        0.225997        0.255429        0.269351   \n",
      "min               1.0        1.000000        3.000000        2.000000   \n",
      "25%               1.0        2.000000        4.000000        6.000000   \n",
      "50%               1.0        2.000000        4.000000        6.000000   \n",
      "75%               1.0        2.000000        4.000000        6.000000   \n",
      "max               1.0        5.000000        8.000000        8.000000   \n",
      "\n",
      "       home_player_X5  home_player_X6  home_player_X7  home_player_X8  \\\n",
      "count     3040.000000     3040.000000     3040.000000     3040.000000   \n",
      "mean         7.794737        2.836513        4.594079        5.209211   \n",
      "std          1.103692        1.186153        1.072418        1.496397   \n",
      "min          1.000000        1.000000        2.000000        2.000000   \n",
      "25%          8.000000        2.000000        4.000000        3.000000   \n",
      "50%          8.000000        2.000000        4.000000        6.000000   \n",
      "75%          8.000000        4.000000        6.000000        6.000000   \n",
      "max          8.000000        9.000000        8.000000        9.000000   \n",
      "\n",
      "       home_player_X9  home_player_X10  home_player_X11  away_player_X1  \\\n",
      "count     3040.000000      3040.000000      3040.000000          3040.0   \n",
      "mean         6.387829         5.477303         5.605263             1.0   \n",
      "std          1.815598         1.567861         0.682194             0.0   \n",
      "min          1.000000         3.000000         3.000000             1.0   \n",
      "25%          5.000000         4.000000         5.000000             1.0   \n",
      "50%          7.000000         5.000000         5.000000             1.0   \n",
      "75%          8.000000         7.000000         6.000000             1.0   \n",
      "max          9.000000         9.000000         7.000000             1.0   \n",
      "\n",
      "       away_player_X2  away_player_X3  away_player_X4  away_player_X5  \\\n",
      "count     3040.000000     3040.000000     3040.000000     3040.000000   \n",
      "mean         2.044079        4.039803        6.039474        7.719408   \n",
      "std          0.275161        0.279957        0.300960        1.287760   \n",
      "min          1.000000        2.000000        2.000000        1.000000   \n",
      "25%          2.000000        4.000000        6.000000        8.000000   \n",
      "50%          2.000000        4.000000        6.000000        8.000000   \n",
      "75%          2.000000        4.000000        6.000000        8.000000   \n",
      "max          8.000000        8.000000        8.000000        8.000000   \n",
      "\n",
      "       away_player_X6  away_player_X7  away_player_X8  away_player_X9  \\\n",
      "count     3040.000000     3040.000000     3040.000000     3040.000000   \n",
      "mean         2.815461        4.523355        5.188816        6.308882   \n",
      "std          1.241685        1.138391        1.490744        1.809354   \n",
      "min          1.000000        2.000000        2.000000        1.000000   \n",
      "25%          2.000000        4.000000        3.000000        5.000000   \n",
      "50%          2.000000        4.000000        6.000000        7.000000   \n",
      "75%          4.000000        6.000000        6.000000        8.000000   \n",
      "max          9.000000        8.000000        9.000000        9.000000   \n",
      "\n",
      "       away_player_X10  away_player_X11  home_player_Y1  home_player_Y2  \\\n",
      "count      3040.000000      3040.000000          3040.0          3040.0   \n",
      "mean          5.742105         5.563816             1.0             3.0   \n",
      "std           1.717246         0.701059             0.0             0.0   \n",
      "min           1.000000         3.000000             1.0             3.0   \n",
      "25%           4.000000         5.000000             1.0             3.0   \n",
      "50%           5.000000         5.000000             1.0             3.0   \n",
      "75%           7.000000         6.000000             1.0             3.0   \n",
      "max           9.000000         7.000000             1.0             3.0   \n",
      "\n",
      "       home_player_Y3  home_player_Y4  home_player_Y5  home_player_Y6  \\\n",
      "count          3040.0          3040.0     3040.000000     3040.000000   \n",
      "mean              3.0             3.0        3.111184        6.611184   \n",
      "std               0.0             0.0        0.656659        0.602293   \n",
      "min               3.0             3.0        3.000000        3.000000   \n",
      "25%               3.0             3.0        3.000000        6.000000   \n",
      "50%               3.0             3.0        3.000000        7.000000   \n",
      "75%               3.0             3.0        3.000000        7.000000   \n",
      "max               3.0             3.0        7.000000        8.000000   \n",
      "\n",
      "       home_player_Y7  home_player_Y8  home_player_Y9  home_player_Y10  \\\n",
      "count     3040.000000     3040.000000     3040.000000      3040.000000   \n",
      "mean         6.722368        7.273026        7.670395         9.064803   \n",
      "std          0.506515        0.515437        0.957768         1.058387   \n",
      "min          5.000000        3.000000        6.000000         6.000000   \n",
      "25%          6.000000        7.000000        7.000000         8.000000   \n",
      "50%          7.000000        7.000000        7.000000         9.000000   \n",
      "75%          7.000000        8.000000        8.000000        10.000000   \n",
      "max          8.000000        9.000000       10.000000        11.000000   \n",
      "\n",
      "       home_player_Y11  away_player_Y1  away_player_Y2  away_player_Y3  \\\n",
      "count      3040.000000          3040.0          3040.0          3040.0   \n",
      "mean         10.512500             1.0             3.0             3.0   \n",
      "std           0.499926             0.0             0.0             0.0   \n",
      "min          10.000000             1.0             3.0             3.0   \n",
      "25%          10.000000             1.0             3.0             3.0   \n",
      "50%          11.000000             1.0             3.0             3.0   \n",
      "75%          11.000000             1.0             3.0             3.0   \n",
      "max          11.000000             1.0             3.0             3.0   \n",
      "\n",
      "       away_player_Y4  away_player_Y5  away_player_Y6  away_player_Y7  \\\n",
      "count          3040.0     3040.000000     3040.000000     3040.000000   \n",
      "mean              3.0        3.148026        6.609868        6.742105   \n",
      "std               0.0        0.754364        0.606346        0.512371   \n",
      "min               3.0        3.000000        3.000000        5.000000   \n",
      "25%               3.0        3.000000        6.000000        6.000000   \n",
      "50%               3.0        3.000000        7.000000        7.000000   \n",
      "75%               3.0        3.000000        7.000000        7.000000   \n",
      "max               3.0        7.000000        8.000000        8.000000   \n",
      "\n",
      "       away_player_Y8  away_player_Y9  away_player_Y10  away_player_Y11  \\\n",
      "count     3040.000000     3040.000000      3040.000000      3040.000000   \n",
      "mean         7.273026        7.696711         8.905263        10.562829   \n",
      "std          0.509659        0.988311         1.139023         0.496118   \n",
      "min          5.000000        6.000000         6.000000        10.000000   \n",
      "25%          7.000000        7.000000         8.000000        10.000000   \n",
      "50%          7.000000        7.000000         9.000000        11.000000   \n",
      "75%          8.000000        8.000000        10.000000        11.000000   \n",
      "max          9.000000       10.000000        11.000000        11.000000   \n",
      "\n",
      "       home_player_1  home_player_2  home_player_3  home_player_4  \\\n",
      "count    3040.000000    3033.000000    3040.000000    3040.000000   \n",
      "mean    48349.594408   74074.748764   52553.752632   51360.120066   \n",
      "std     48004.008764   81155.586618   61594.172780   54116.993111   \n",
      "min     22978.000000   11736.000000   11736.000000   11736.000000   \n",
      "25%     26295.000000   26256.000000   24228.000000   24751.000000   \n",
      "50%     30974.000000   34430.000000   30831.000000   30739.000000   \n",
      "75%     37233.000000  104482.000000   40005.000000   40548.000000   \n",
      "max    289159.000000  611682.000000  639058.000000  575780.000000   \n",
      "\n",
      "       home_player_5  home_player_6  home_player_7  home_player_8  \\\n",
      "count    3037.000000    3040.000000    3035.000000    3033.000000   \n",
      "mean    74915.415871   65996.724671   61012.197035   66127.039894   \n",
      "std     88970.949615   68261.648737   62681.387682   69753.229909   \n",
      "min     11736.000000    2802.000000    2802.000000    2802.000000   \n",
      "25%     24846.000000   26157.750000   24656.000000   25415.000000   \n",
      "50%     35472.000000   34944.000000   34437.000000   34944.000000   \n",
      "75%     78513.000000   95327.000000   75489.000000   94086.000000   \n",
      "max    693138.000000  706985.000000  604982.000000  682552.000000   \n",
      "\n",
      "       home_player_9  home_player_10  home_player_11  away_player_1  \\\n",
      "count    3038.000000     3033.000000     3039.000000    3040.000000   \n",
      "mean    69566.044437    66184.602704    62887.652517   48749.011513   \n",
      "std     73245.054734    77611.888705    76768.725506   48961.196757   \n",
      "min      2802.000000     2802.000000     2802.000000   22978.000000   \n",
      "25%     25544.750000    26181.000000    26675.000000   25156.000000   \n",
      "50%     34574.000000    34176.000000    33881.000000   30974.000000   \n",
      "75%    105898.750000    52563.000000    46700.000000   37233.000000   \n",
      "max    680815.000000   742405.000000   696365.000000  303919.000000   \n",
      "\n",
      "       away_player_2  away_player_3  away_player_4  away_player_5  \\\n",
      "count    3032.000000    3039.000000    3040.000000    3033.000000   \n",
      "mean    74933.717678   52267.117802   52815.466118   75268.363666   \n",
      "std     84710.921005   58936.831254   60933.298805   89445.552023   \n",
      "min     11736.000000   11736.000000   11736.000000   11736.000000   \n",
      "25%     26454.000000   24336.000000   24719.500000   24846.000000   \n",
      "50%     34430.000000   30839.000000   30627.000000   36786.000000   \n",
      "75%    104482.000000   40132.000000   40651.000000   78541.000000   \n",
      "max    706985.000000  575780.000000  680815.000000  693138.000000   \n",
      "\n",
      "       away_player_6  away_player_7  away_player_8  away_player_9  \\\n",
      "count    3036.000000    3033.000000    3038.000000    3034.000000   \n",
      "mean    66452.856061   64026.185625   66883.558262   66856.601187   \n",
      "std     67294.310748   67716.972762   71274.641173   72200.149796   \n",
      "min      3520.000000    8985.000000    2802.000000    2802.000000   \n",
      "25%     25668.000000   24978.000000   25253.000000   25923.000000   \n",
      "50%     35327.000000   35443.000000   35157.000000   33881.000000   \n",
      "75%    101103.000000   95327.000000   94086.000000   88563.500000   \n",
      "max    608125.000000  750435.000000  682552.000000  643709.000000   \n",
      "\n",
      "       away_player_10  away_player_11        B365H        B365D        B365A  \\\n",
      "count     3032.000000     3035.000000  3040.000000  3040.000000  3040.000000   \n",
      "mean     67075.971966    62341.181549     2.701964     3.952720     4.910437   \n",
      "std      76489.467736    73281.764009     1.689834     0.998305     3.909392   \n",
      "min       2802.000000     2802.000000     1.100000     3.000000     1.220000   \n",
      "25%      26494.000000    26494.000000     1.670000     3.300000     2.500000   \n",
      "50%      33881.000000    33881.000000     2.200000     3.600000     3.500000   \n",
      "75%      72735.000000    47382.000000     3.000000     4.200000     5.500000   \n",
      "max     643709.000000   696365.000000    15.000000    11.000000    29.000000   \n",
      "\n",
      "               BWH          BWD          BWA          IWH          IWD  \\\n",
      "count  3039.000000  3039.000000  3039.000000  3038.000000  3038.000000   \n",
      "mean      2.603906     3.803251     4.495166     2.513644     3.687903   \n",
      "std       1.528913     0.882597     3.213833     1.368492     0.735121   \n",
      "min       1.100000     2.900000     1.220000     1.050000     3.000000   \n",
      "25%       1.650000     3.250000     2.400000     1.650000     3.300000   \n",
      "50%       2.100000     3.400000     3.400000     2.100000     3.400000   \n",
      "75%       2.875000     4.000000     5.250000     2.700000     3.800000   \n",
      "max      12.500000     9.250000    21.000000    10.000000    10.000000   \n",
      "\n",
      "               IWA          LBH          LBD          LBA          PSH  \\\n",
      "count  3038.000000  3039.000000  3039.000000  3039.000000  1519.000000   \n",
      "mean      4.245671     2.611787     3.815271     4.563537     2.720369   \n",
      "std       2.919038     1.526034     0.876612     3.371435     1.575303   \n",
      "min       1.270000     1.080000     2.880000     1.220000     1.130000   \n",
      "25%       2.400000     1.665000     3.300000     2.400000     1.690000   \n",
      "50%       3.300000     2.150000     3.500000     3.400000     2.200000   \n",
      "75%       4.900000     2.880000     4.000000     5.250000     3.130000   \n",
      "max      25.000000    12.000000    10.000000    26.000000    10.800000   \n",
      "\n",
      "               PSD          PSA          WHH          WHD          WHA  \\\n",
      "count  1519.000000  1519.000000  3040.000000  3040.000000  3040.000000   \n",
      "mean      4.078183     4.923970     2.663760     3.669260     4.699592   \n",
      "std       1.046468     3.840303     1.590124     0.812509     3.628486   \n",
      "min       3.040000     1.370000     1.100000     2.800000     1.220000   \n",
      "25%       3.440000     2.460000     1.670000     3.200000     2.500000   \n",
      "50%       3.670000     3.650000     2.150000     3.300000     3.400000   \n",
      "75%       4.280000     5.590000     2.900000     3.800000     5.500000   \n",
      "max      11.030000    28.500000    12.000000     9.500000    26.000000   \n",
      "\n",
      "               SJH          SJD          SJA          VCH          VCD  \\\n",
      "count  2320.000000  2320.000000  2320.000000  3040.000000  3040.000000   \n",
      "mean      2.667828     3.881039     4.859233     2.712204     3.955470   \n",
      "std       1.698067     0.926573     3.826951     1.692001     1.009081   \n",
      "min       1.110000     3.000000     1.250000     1.090000     2.500000   \n",
      "25%       1.620000     3.300000     2.500000     1.670000     3.300000   \n",
      "50%       2.100000     3.500000     3.500000     2.200000     3.600000   \n",
      "75%       2.880000     4.000000     5.500000     3.000000     4.100000   \n",
      "max      15.000000     9.000000    29.000000    15.000000    10.000000   \n",
      "\n",
      "               VCA          GBH          GBD          GBA          BSH  \\\n",
      "count  3040.000000  1899.000000  1899.000000  1899.000000  1900.000000   \n",
      "mean      4.956711     2.606840     3.761980     4.566435     2.625553   \n",
      "std       3.984335     1.586001     0.842088     3.301710     1.655792   \n",
      "min       1.220000     1.100000     3.000000     1.250000     1.100000   \n",
      "25%       2.500000     1.650000     3.250000     2.450000     1.620000   \n",
      "50%       3.600000     2.100000     3.400000     3.400000     2.100000   \n",
      "75%       5.500000     2.800000     3.900000     5.250000     2.800000   \n",
      "max      29.000000    12.000000     8.500000    21.000000    13.000000   \n",
      "\n",
      "               BSD          BSA  HomeTeamShots  AwayTeamShots  \\\n",
      "count  1900.000000  1900.000000    3040.000000    3040.000000   \n",
      "mean      3.773584     4.790621      14.216447      11.189474   \n",
      "std       0.837965     3.786069       5.350301       4.595692   \n",
      "min       3.000000     1.220000       1.000000       0.000000   \n",
      "25%       3.250000     2.500000      10.000000       8.000000   \n",
      "50%       3.400000     3.400000      14.000000      11.000000   \n",
      "75%       3.900000     5.500000      17.000000      14.000000   \n",
      "max       8.500000    26.000000      43.000000      30.000000   \n",
      "\n",
      "       HomeTeamShotsOnTarget  AwayTeamShotsOnTarget  HomeTeamCorners  \\\n",
      "count            3040.000000            3040.000000      3040.000000   \n",
      "mean                6.675329               5.221053         6.175658   \n",
      "std                 3.590441               3.021338         3.173299   \n",
      "min                 0.000000               0.000000         0.000000   \n",
      "25%                 4.000000               3.000000         4.000000   \n",
      "50%                 6.000000               5.000000         6.000000   \n",
      "75%                 9.000000               7.000000         8.000000   \n",
      "max                24.000000              20.000000        20.000000   \n",
      "\n",
      "       AwayTeamCorners  HomeTeamFoulsCommitted  AwayTeamFoulsCommitted  \\\n",
      "count      3040.000000             3040.000000             3040.000000   \n",
      "mean          4.845724               10.758553               11.350000   \n",
      "std           2.733450                3.444515                3.642172   \n",
      "min           0.000000                2.000000                1.000000   \n",
      "25%           3.000000                8.000000                9.000000   \n",
      "50%           5.000000               11.000000               11.000000   \n",
      "75%           6.000000               13.000000               14.000000   \n",
      "max          19.000000               28.000000               26.000000   \n",
      "\n",
      "       HomeTeamYellowCards  AwayTeamYellowCards  AwayTeamRedCards  \\\n",
      "count          3040.000000          3040.000000       3040.000000   \n",
      "mean              1.423684             1.796711          0.097697   \n",
      "std               1.170592             1.289383          0.313135   \n",
      "min               0.000000             0.000000          0.000000   \n",
      "25%               1.000000             1.000000          0.000000   \n",
      "50%               1.000000             2.000000          0.000000   \n",
      "75%               2.000000             3.000000          0.000000   \n",
      "max               7.000000             9.000000          2.000000   \n",
      "\n",
      "       HomeTeamRedCards  \n",
      "count       3040.000000  \n",
      "mean           0.064474  \n",
      "std            0.253546  \n",
      "min            0.000000  \n",
      "25%            0.000000  \n",
      "50%            0.000000  \n",
      "75%            0.000000  \n",
      "max            2.000000  \n"
     ]
    }
   ],
   "source": [
    "with pd.option_context('display.max_rows', None, 'display.max_columns', None):\n",
    "    print(matches.describe())"
   ]
  },
  {
   "cell_type": "code",
   "execution_count": 39,
   "metadata": {},
   "outputs": [
    {
     "data": {
      "image/png": "[encoded data removed]",
      "text/plain": [
       "<Figure size 1440x1296 with 12 Axes>"
      ]
     },
     "metadata": {
      "needs_background": "light"
     },
     "output_type": "display_data"
    }
   ],
   "source": [
    "matches.hist(column=['HomeTeamShots', 'AwayTeamShots', 'HomeTeamShotsOnTarget', 'AwayTeamShotsOnTarget', \n",
    "                     'HomeTeamCorners', 'AwayTeamCorners', 'HomeTeamFoulsCommitted', 'AwayTeamFoulsCommitted',\n",
    "                    'HomeTeamYellowCards', 'AwayTeamYellowCards', 'AwayTeamRedCards', 'HomeTeamRedCards'], \n",
    "             bins=15, figsize=(20,18))\n",
    "plt.show()"
   ]
  },
  {
   "cell_type": "markdown",
   "metadata": {},
   "source": [
    "##### Niektóre atrybuty z brakującymi wartościami. Najwięcej brakujących występuje w danych o kursach z poszczególnych zakładów bukmacherskich. Wynika to najprawdopodobniej z tego, że nie wszystkie zakłady mają w swojej ofercie wszystkie mecze ligii angielskiej."
   ]
  },
  {
   "cell_type": "markdown",
   "metadata": {},
   "source": [
    "# Analiza jednego sezonu dla drużyny Manchester United (2015/2016)"
   ]
  },
  {
   "cell_type": "code",
   "execution_count": 155,
   "metadata": {},
   "outputs": [],
   "source": [
    "man_utd_home_games = matches.loc[(matches['home_team_api_id'] == 10260) & (matches['season'] == '2015/2016')]\n",
    "man_utd_away_games = matches.loc[(matches['away_team_api_id'] == 10260) & (matches['season'] == '2015/2016')]\n",
    "man_utd_games = pd.concat([man_utd_home_games, man_utd_away_games])"
   ]
  },
  {
   "cell_type": "code",
   "execution_count": 156,
   "metadata": {},
   "outputs": [],
   "source": [
    "won_home_games = len(man_utd_home_games.loc[man_utd_home_games['home_team_goal'] > man_utd_home_games['away_team_goal']])\n",
    "won_away_games = len(man_utd_away_games.loc[man_utd_away_games['home_team_goal'] < man_utd_away_games['away_team_goal']])\n",
    "draw_games = len(man_utd_games.loc[man_utd_games['home_team_goal'] == man_utd_games['away_team_goal']])\n",
    "lost_games = len(man_utd_games) - won_home_games - won_away_games - draw_games"
   ]
  },
  {
   "cell_type": "code",
   "execution_count": 157,
   "metadata": {},
   "outputs": [],
   "source": [
    "yellow_cards_avg = pd.concat([man_utd_home_games['HomeTeamYellowCards'], \n",
    "                              man_utd_away_games['AwayTeamYellowCards']]).mean()\n",
    "red_cards_avg = pd.concat([man_utd_home_games['HomeTeamRedCards'], \n",
    "                           man_utd_away_games['AwayTeamRedCards']]).mean()"
   ]
  },
  {
   "cell_type": "code",
   "execution_count": 158,
   "metadata": {},
   "outputs": [],
   "source": [
    "shots_on_target_avg = pd.concat([man_utd_home_games['HomeTeamShotsOnTarget'], \n",
    "                                 man_utd_away_games['AwayTeamShotsOnTarget']]).mean()\n",
    "corners_avg = pd.concat([man_utd_home_games['HomeTeamCorners'], \n",
    "                                 man_utd_away_games['AwayTeamCorners']]).mean()"
   ]
  },
  {
   "cell_type": "code",
   "execution_count": 159,
   "metadata": {},
   "outputs": [],
   "source": [
    "home_odds_avg = man_utd_home_games.iloc[:,[77, 80, 83, 86, 89, 92, 95, 98, 101, 104]].mean().mean()\n",
    "away_odds_avg = man_utd_away_games.iloc[:,[79, 82, 85, 88, 91, 94, 97, 100, 103, 106]].mean().mean()"
   ]
  },
  {
   "cell_type": "code",
   "execution_count": 160,
   "metadata": {},
   "outputs": [
    {
     "data": {
      "text/html": [
       "<div>\n",
       "<style scoped>\n",
       "    .dataframe tbody tr th:only-of-type {\n",
       "        vertical-align: middle;\n",
       "    }\n",
       "\n",
       "    .dataframe tbody tr th {\n",
       "        vertical-align: top;\n",
       "    }\n",
       "\n",
       "    .dataframe thead th {\n",
       "        text-align: right;\n",
       "    }\n",
       "</style>\n",
       "<table border=\"1\" class=\"dataframe\">\n",
       "  <thead>\n",
       "    <tr style=\"text-align: right;\">\n",
       "      <th></th>\n",
       "      <th>Won Home Games</th>\n",
       "      <th>Won Away Games</th>\n",
       "      <th>Draw Games</th>\n",
       "      <th>Lost Games</th>\n",
       "      <th>Yellow cards per match</th>\n",
       "      <th>Red cards per match</th>\n",
       "      <th>Shot on target per match</th>\n",
       "      <th>Corners per match</th>\n",
       "      <th>Average odds for home win</th>\n",
       "      <th>Average odds for away win</th>\n",
       "    </tr>\n",
       "  </thead>\n",
       "  <tbody>\n",
       "    <tr>\n",
       "      <th>0</th>\n",
       "      <td>12</td>\n",
       "      <td>7</td>\n",
       "      <td>9</td>\n",
       "      <td>10</td>\n",
       "      <td>1.710526</td>\n",
       "      <td>0.026316</td>\n",
       "      <td>3.763158</td>\n",
       "      <td>6.0</td>\n",
       "      <td>1.790376</td>\n",
       "      <td>2.578271</td>\n",
       "    </tr>\n",
       "  </tbody>\n",
       "</table>\n",
       "</div>"
      ],
      "text/plain": [
       "   Won Home Games  Won Away Games  Draw Games  Lost Games  \\\n",
       "0              12               7           9          10   \n",
       "\n",
       "   Yellow cards per match  Red cards per match  Shot on target per match  \\\n",
       "0                1.710526             0.026316                  3.763158   \n",
       "\n",
       "   Corners per match  Average odds for home win  Average odds for away win  \n",
       "0                6.0                   1.790376                   2.578271  "
      ]
     },
     "execution_count": 160,
     "metadata": {},
     "output_type": "execute_result"
    }
   ],
   "source": [
    "summary = pd.DataFrame([[won_home_games, \n",
    "                         won_away_games, \n",
    "                         draw_games, \n",
    "                         lost_games, \n",
    "                         yellow_cards_avg, \n",
    "                         red_cards_avg, \n",
    "                         shots_on_target_avg, \n",
    "                         corners_avg, \n",
    "                         home_odds_avg, \n",
    "                         away_odds_avg]], \n",
    "                       columns=['Won Home Games', \n",
    "                                'Won Away Games', \n",
    "                                'Draw Games', \n",
    "                                'Lost Games', \n",
    "                                'Yellow cards per match', \n",
    "                                'Red cards per match', \n",
    "                                'Shot on target per match',\n",
    "                                'Corners per match',\n",
    "                                'Average odds for home win', \n",
    "                                'Average odds for away win'])\n",
    "summary"
   ]
  },
  {
   "cell_type": "code",
   "execution_count": null,
   "metadata": {},
   "outputs": [],
   "source": []
  }
 ],
 "metadata": {
  "kernelspec": {
   "display_name": "Python 3",
   "language": "python",
   "name": "python3"
  },
  "language_info": {
   "codemirror_mode": {
    "name": "ipython",
    "version": 3
   },
   "file_extension": ".py",
   "mimetype": "text/x-python",
   "name": "python",
   "nbconvert_exporter": "python",
   "pygments_lexer": "ipython3",
   "version": "3.8.6"
  }
 },
 "nbformat": 4,
 "nbformat_minor": 4
}
