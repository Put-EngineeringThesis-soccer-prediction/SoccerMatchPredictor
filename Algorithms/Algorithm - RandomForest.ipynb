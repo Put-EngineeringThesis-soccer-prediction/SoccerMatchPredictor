{
 "cells": [
  {
   "cell_type": "code",
   "execution_count": 1,
   "metadata": {},
   "outputs": [],
   "source": [
    "import os\n",
    "import sys\n",
    "import warnings\n",
    "import pandas as pd\n",
    "from pathlib import Path"
   ]
  },
  {
   "cell_type": "code",
   "execution_count": 2,
   "metadata": {},
   "outputs": [],
   "source": [
    "from split_start import *\n",
    "from split_block import *\n",
    "from prepare_dataset import *\n",
    "from sklearn.ensemble import RandomForestClassifier\n",
    "from sklearn.model_selection import RandomizedSearchCV\n",
    "from sklearn import metrics"
   ]
  },
  {
   "cell_type": "code",
   "execution_count": 3,
   "metadata": {},
   "outputs": [],
   "source": [
    "working_dir = Path(os.getcwd()).parent\n",
    "sys.path.append(os.path.join(working_dir, 'Preprocessing\\\\'))\n",
    "\n",
    "from data_aggregator import *\n",
    "from season import *\n",
    "from parameters import *\n",
    "from team import *"
   ]
  },
  {
   "cell_type": "markdown",
   "metadata": {},
   "source": [
    "## Przygotowanie danych - pobranie przetworzonych danych do pamięci podręcznej"
   ]
  },
  {
   "cell_type": "code",
   "execution_count": 4,
   "metadata": {},
   "outputs": [],
   "source": [
    "no_last_matches = 3\n",
    "\n",
    "data_aggregator = DataAggregator()\n",
    "\n",
    "all_seasons, all_data_past =\\\n",
    "                    data_aggregator.get_data_for_seasons([Season.y2010, Season.y2011,\n",
    "                                                         Season.y2012, Season.y2013,\n",
    "                                                         Season.y2014, Season.y2015, Season.y2016], \n",
    "                                                         Parameters(no_last_matches=no_last_matches))"
   ]
  },
  {
   "cell_type": "markdown",
   "metadata": {},
   "source": [
    "## Przygotowanie podstawowych wartości"
   ]
  },
  {
   "cell_type": "code",
   "execution_count": 5,
   "metadata": {},
   "outputs": [],
   "source": [
    "all_seasons['match_date'] = pd.to_datetime(all_seasons['match_date'])"
   ]
  },
  {
   "cell_type": "code",
   "execution_count": 6,
   "metadata": {},
   "outputs": [],
   "source": [
    "list_of_parameters = ['home_team_score',\n",
    "                        'away_team_score', \n",
    "                        'home_team_seasons_played',\n",
    "                        'away_team_seasons_played', \n",
    "                        'home_team_last_season_points',\n",
    "                        'away_team_last_season_points', \n",
    "                        'home_players_avg_age',\n",
    "                        'away_players_avg_age', \n",
    "                        'home_players_avg_rating',\n",
    "                        'away_players_avg_rating', \n",
    "                        'home_elo_rating', \n",
    "                        'away_elo_rating',\n",
    "                        'avg_home_win_odds', \n",
    "                        'avg_draw_odds', \n",
    "                        'avg_away_win_odds',\n",
    "                        'home_avg_corners', \n",
    "                        'away_avg_corners', \n",
    "                        'home_avg_shots',\n",
    "                        'away_avg_shots', \n",
    "                        'home_won_games', \n",
    "                        'away_won_games', \n",
    "                        'home_tied_games',\n",
    "                        'away_tied_games', \n",
    "                        'home_lost_games', \n",
    "                        'away_lost_games',\n",
    "                        'home_scored_goals', \n",
    "                        'away_scored_goals'\n",
    "                     ]"
   ]
  },
  {
   "cell_type": "code",
   "execution_count": 32,
   "metadata": {},
   "outputs": [],
   "source": [
    "dataset = prepare_dataset(all_seasons, list_of_parameters, all_data_past, add_direct = True, avg = 3, train_size = 0.9,\n",
    "                          test_size = 0.1, undersample = False, globalCS = False)"
   ]
  },
  {
   "cell_type": "code",
   "execution_count": 33,
   "metadata": {},
   "outputs": [
    {
     "data": {
      "text/plain": [
       "Counter({1: 923, 0: 522, 2: 597})"
      ]
     },
     "execution_count": 33,
     "metadata": {},
     "output_type": "execute_result"
    }
   ],
   "source": [
    "Counter(dataset['y_train'])"
   ]
  },
  {
   "cell_type": "markdown",
   "metadata": {},
   "source": [
    "## Algorytm Random Forest"
   ]
  },
  {
   "cell_type": "code",
   "execution_count": 34,
   "metadata": {},
   "outputs": [],
   "source": [
    "Xtrain = dataset['X_train']\n",
    "Ytrain = dataset['y_train']\n",
    "\n",
    "Xtest = dataset['X_test']\n",
    "Ytest = dataset['y_test']"
   ]
  },
  {
   "cell_type": "code",
   "execution_count": 35,
   "metadata": {},
   "outputs": [],
   "source": [
    "parameters = {\n",
    "    'n_estimators': [10, 20, 40, 60, 80, 100, 130, 170],\n",
    "    'criterion': ['gini', 'entropy'],\n",
    "    'max_depth': [2, 5, 7, 10, 15, 20, 30, 40],\n",
    "    'bootstrap': [True, False],\n",
    "    'min_samples_split': [2, 4, 6, 8, 10, 15, 20],\n",
    "    'class_weight': ['balanced', None],\n",
    "    'random_state': [10, 20, 40, 41, 42, 46, 50, 51, 56, 60, 70, 80]\n",
    "}"
   ]
  },
  {
   "cell_type": "code",
   "execution_count": 36,
   "metadata": {},
   "outputs": [],
   "source": [
    "randomForest = RandomizedSearchCV(estimator = RandomForestClassifier(), param_distributions = parameters, n_jobs = -1,\n",
    "                                  random_state = 42, scoring = 'accuracy')"
   ]
  },
  {
   "cell_type": "code",
   "execution_count": 37,
   "metadata": {},
   "outputs": [
    {
     "name": "stdout",
     "output_type": "stream",
     "text": [
      "Najlepsze znalezione parametry: {'random_state': 40, 'n_estimators': 80, 'min_samples_split': 2, 'max_depth': 5, 'criterion': 'entropy', 'class_weight': None, 'bootstrap': True}\n"
     ]
    }
   ],
   "source": [
    "randomForest.fit(Xtrain, Ytrain)\n",
    "print(\"Najlepsze znalezione parametry:\", randomForest.best_params_)"
   ]
  },
  {
   "cell_type": "code",
   "execution_count": 38,
   "metadata": {},
   "outputs": [],
   "source": [
    "Ypred = randomForest.predict(Xtest)"
   ]
  },
  {
   "cell_type": "code",
   "execution_count": 39,
   "metadata": {},
   "outputs": [
    {
     "name": "stdout",
     "output_type": "stream",
     "text": [
      "\n",
      "##################################\n",
      "Accuracy: \n",
      "0.5066079295154186\n",
      "\n",
      "##################################\n",
      "Precision, Recall and fscore:: \n",
      "(0.520952380952381, 0.45537022501308216, 0.41019906776381104, None)\n"
     ]
    }
   ],
   "source": [
    "print('\\n##################################\\nAccuracy: ')\n",
    "\n",
    "print(metrics.accuracy_score(Ytest, Ypred))\n",
    "\n",
    "print('\\n##################################\\nPrecision, Recall and fscore:: ')\n",
    "\n",
    "print(metrics.precision_recall_fscore_support(Ytest, Ypred, average='macro'))"
   ]
  },
  {
   "cell_type": "code",
   "execution_count": 40,
   "metadata": {},
   "outputs": [
    {
     "name": "stdout",
     "output_type": "stream",
     "text": [
      "Poprawnie sklasyfikowane przykłady:\n"
     ]
    },
    {
     "data": {
      "text/plain": [
       "[(0, 4), (1, 78), (2, 33)]"
      ]
     },
     "execution_count": 40,
     "metadata": {},
     "output_type": "execute_result"
    }
   ],
   "source": [
    "print(\"Poprawnie sklasyfikowane przykłady:\")\n",
    "sorted(Counter(Ytest[Ypred == Ytest]).items(), key = lambda el : el[0])"
   ]
  },
  {
   "cell_type": "code",
   "execution_count": 41,
   "metadata": {},
   "outputs": [
    {
     "name": "stdout",
     "output_type": "stream",
     "text": [
      "Błędnie sklasyfikowane przykłady:\n"
     ]
    },
    {
     "data": {
      "text/plain": [
       "[(0, 60), (1, 20), (2, 32)]"
      ]
     },
     "execution_count": 41,
     "metadata": {},
     "output_type": "execute_result"
    }
   ],
   "source": [
    "print(\"Błędnie sklasyfikowane przykłady:\")\n",
    "sorted(Counter(Ytest[Ypred != Ytest]).items(), key = lambda el : el[0])"
   ]
  },
  {
   "cell_type": "code",
   "execution_count": 42,
   "metadata": {},
   "outputs": [
    {
     "name": "stdout",
     "output_type": "stream",
     "text": [
      "Macierz pomyłek:\n",
      "[[ 4 42 18]\n",
      " [ 1 78 19]\n",
      " [ 2 30 33]]\n"
     ]
    }
   ],
   "source": [
    "confusion = metrics.confusion_matrix(Ytest, Ypred)\n",
    "print(\"Macierz pomyłek:\")\n",
    "print(confusion)"
   ]
  },
  {
   "cell_type": "code",
   "execution_count": 43,
   "metadata": {},
   "outputs": [
    {
     "data": {
      "text/plain": [
       "avg_home_win_odds               0.132054\n",
       "avg_away_win_odds               0.128795\n",
       "home_players_avg_rating         0.085001\n",
       "home_elo_rating                 0.082156\n",
       "avg_draw_odds                   0.076478\n",
       "home_team_last_season_points    0.057551\n",
       "away_players_avg_rating         0.053931\n",
       "away_elo_rating                 0.049289\n",
       "away_team_last_season_points    0.033046\n",
       "away_players_avg_age            0.029554\n",
       "home_avg_shots                  0.026627\n",
       "home_avg_corners                0.026218\n",
       "away_avg_shots                  0.021186\n",
       "away_direct_wins                0.020088\n",
       "home_players_avg_age            0.020038\n",
       "home_scored_goals               0.018703\n",
       "away_team_score                 0.017095\n",
       "home_team_score                 0.016206\n",
       "away_avg_corners                0.015183\n",
       "away_scored_goals               0.013919\n",
       "home_direct_wins                0.013499\n",
       "home_team_seasons_played        0.011218\n",
       "away_team_seasons_played        0.009209\n",
       "home_tied_games                 0.007502\n",
       "direct_draws                    0.007411\n",
       "home_won_games                  0.006807\n",
       "away_lost_games                 0.006406\n",
       "away_won_games                  0.005897\n",
       "home_lost_games                 0.005263\n",
       "away_tied_games                 0.003670\n",
       "dtype: float64"
      ]
     },
     "execution_count": 43,
     "metadata": {},
     "output_type": "execute_result"
    }
   ],
   "source": [
    "forestFeatureImportances = pd.Series(randomForest.best_estimator_.feature_importances_, index=dataset['X_train'].columns).sort_values(ascending=False)\n",
    "forestFeatureImportances"
   ]
  },
  {
   "cell_type": "markdown",
   "metadata": {},
   "source": [
    "## Nauczenie modelu na całym dostępnym zbiorze danych i jego zapis w celu wykorzystania w interaktywnym notebooku"
   ]
  },
  {
   "cell_type": "code",
   "execution_count": 44,
   "metadata": {},
   "outputs": [],
   "source": [
    "import pickle\n",
    "\n",
    "finalModel = randomForest.best_estimator_\n",
    "dataset_final = prepare_dataset(all_seasons, list_of_parameters, all_data_past, add_direct = True, avg = 3, train_size = 1.0,\n",
    "                          test_size = 0.0, undersample = True, globalCS = False)\n",
    "\n",
    "finalModel.fit(dataset_final['X_train'], dataset_final['y_train'])\n",
    "\n",
    "filename = 'randomForest.pkl'\n",
    "pickle.dump(finalModel, open(filename, \"wb\"))"
   ]
  }
 ],
 "metadata": {
  "kernelspec": {
   "display_name": "Python 3",
   "language": "python",
   "name": "python3"
  },
  "language_info": {
   "codemirror_mode": {
    "name": "ipython",
    "version": 3
   },
   "file_extension": ".py",
   "mimetype": "text/x-python",
   "name": "python",
   "nbconvert_exporter": "python",
   "pygments_lexer": "ipython3",
   "version": "3.6.4"
  }
 },
 "nbformat": 4,
 "nbformat_minor": 4
}
